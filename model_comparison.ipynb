{
 "cells": [
  {
   "cell_type": "code",
   "execution_count": 2,
   "metadata": {
    "colab": {
     "base_uri": "https://localhost:8080/"
    },
    "id": "Cp6rOYti_zLP",
    "outputId": "9bf17c03-0c18-4974-f019-807f4ca68e90"
   },
   "outputs": [
    {
     "name": "stdout",
     "output_type": "stream",
     "text": [
      "Requirement already satisfied: torch in /usr/local/lib/python3.12/dist-packages (2.8.0+cu126)\n",
      "Requirement already satisfied: torchvision in /usr/local/lib/python3.12/dist-packages (0.23.0+cu126)\n",
      "Requirement already satisfied: torchaudio in /usr/local/lib/python3.12/dist-packages (2.8.0+cu126)\n",
      "Requirement already satisfied: transformers in /usr/local/lib/python3.12/dist-packages (4.57.0)\n",
      "Requirement already satisfied: datasets in /usr/local/lib/python3.12/dist-packages (4.0.0)\n",
      "Collecting evaluate\n",
      "  Downloading evaluate-0.4.6-py3-none-any.whl.metadata (9.5 kB)\n",
      "Requirement already satisfied: accelerate in /usr/local/lib/python3.12/dist-packages (1.10.1)\n",
      "Requirement already satisfied: peft in /usr/local/lib/python3.12/dist-packages (0.17.1)\n",
      "Requirement already satisfied: matplotlib in /usr/local/lib/python3.12/dist-packages (3.10.0)\n",
      "Requirement already satisfied: filelock in /usr/local/lib/python3.12/dist-packages (from torch) (3.20.0)\n",
      "Requirement already satisfied: typing-extensions>=4.10.0 in /usr/local/lib/python3.12/dist-packages (from torch) (4.15.0)\n",
      "Requirement already satisfied: setuptools in /usr/local/lib/python3.12/dist-packages (from torch) (75.2.0)\n",
      "Requirement already satisfied: sympy>=1.13.3 in /usr/local/lib/python3.12/dist-packages (from torch) (1.13.3)\n",
      "Requirement already satisfied: networkx in /usr/local/lib/python3.12/dist-packages (from torch) (3.5)\n",
      "Requirement already satisfied: jinja2 in /usr/local/lib/python3.12/dist-packages (from torch) (3.1.6)\n",
      "Requirement already satisfied: fsspec in /usr/local/lib/python3.12/dist-packages (from torch) (2025.3.0)\n",
      "Requirement already satisfied: nvidia-cuda-nvrtc-cu12==12.6.77 in /usr/local/lib/python3.12/dist-packages (from torch) (12.6.77)\n",
      "Requirement already satisfied: nvidia-cuda-runtime-cu12==12.6.77 in /usr/local/lib/python3.12/dist-packages (from torch) (12.6.77)\n",
      "Requirement already satisfied: nvidia-cuda-cupti-cu12==12.6.80 in /usr/local/lib/python3.12/dist-packages (from torch) (12.6.80)\n",
      "Requirement already satisfied: nvidia-cudnn-cu12==9.10.2.21 in /usr/local/lib/python3.12/dist-packages (from torch) (9.10.2.21)\n",
      "Requirement already satisfied: nvidia-cublas-cu12==12.6.4.1 in /usr/local/lib/python3.12/dist-packages (from torch) (12.6.4.1)\n",
      "Requirement already satisfied: nvidia-cufft-cu12==11.3.0.4 in /usr/local/lib/python3.12/dist-packages (from torch) (11.3.0.4)\n",
      "Requirement already satisfied: nvidia-curand-cu12==10.3.7.77 in /usr/local/lib/python3.12/dist-packages (from torch) (10.3.7.77)\n",
      "Requirement already satisfied: nvidia-cusolver-cu12==11.7.1.2 in /usr/local/lib/python3.12/dist-packages (from torch) (11.7.1.2)\n",
      "Requirement already satisfied: nvidia-cusparse-cu12==12.5.4.2 in /usr/local/lib/python3.12/dist-packages (from torch) (12.5.4.2)\n",
      "Requirement already satisfied: nvidia-cusparselt-cu12==0.7.1 in /usr/local/lib/python3.12/dist-packages (from torch) (0.7.1)\n",
      "Requirement already satisfied: nvidia-nccl-cu12==2.27.3 in /usr/local/lib/python3.12/dist-packages (from torch) (2.27.3)\n",
      "Requirement already satisfied: nvidia-nvtx-cu12==12.6.77 in /usr/local/lib/python3.12/dist-packages (from torch) (12.6.77)\n",
      "Requirement already satisfied: nvidia-nvjitlink-cu12==12.6.85 in /usr/local/lib/python3.12/dist-packages (from torch) (12.6.85)\n",
      "Requirement already satisfied: nvidia-cufile-cu12==1.11.1.6 in /usr/local/lib/python3.12/dist-packages (from torch) (1.11.1.6)\n",
      "Requirement already satisfied: triton==3.4.0 in /usr/local/lib/python3.12/dist-packages (from torch) (3.4.0)\n",
      "Requirement already satisfied: numpy in /usr/local/lib/python3.12/dist-packages (from torchvision) (2.0.2)\n",
      "Requirement already satisfied: pillow!=8.3.*,>=5.3.0 in /usr/local/lib/python3.12/dist-packages (from torchvision) (11.3.0)\n",
      "Requirement already satisfied: huggingface-hub<1.0,>=0.34.0 in /usr/local/lib/python3.12/dist-packages (from transformers) (0.35.3)\n",
      "Requirement already satisfied: packaging>=20.0 in /usr/local/lib/python3.12/dist-packages (from transformers) (25.0)\n",
      "Requirement already satisfied: pyyaml>=5.1 in /usr/local/lib/python3.12/dist-packages (from transformers) (6.0.3)\n",
      "Requirement already satisfied: regex!=2019.12.17 in /usr/local/lib/python3.12/dist-packages (from transformers) (2024.11.6)\n",
      "Requirement already satisfied: requests in /usr/local/lib/python3.12/dist-packages (from transformers) (2.32.4)\n",
      "Requirement already satisfied: tokenizers<=0.23.0,>=0.22.0 in /usr/local/lib/python3.12/dist-packages (from transformers) (0.22.1)\n",
      "Requirement already satisfied: safetensors>=0.4.3 in /usr/local/lib/python3.12/dist-packages (from transformers) (0.6.2)\n",
      "Requirement already satisfied: tqdm>=4.27 in /usr/local/lib/python3.12/dist-packages (from transformers) (4.67.1)\n",
      "Requirement already satisfied: pyarrow>=15.0.0 in /usr/local/lib/python3.12/dist-packages (from datasets) (18.1.0)\n",
      "Requirement already satisfied: dill<0.3.9,>=0.3.0 in /usr/local/lib/python3.12/dist-packages (from datasets) (0.3.8)\n",
      "Requirement already satisfied: pandas in /usr/local/lib/python3.12/dist-packages (from datasets) (2.2.2)\n",
      "Requirement already satisfied: xxhash in /usr/local/lib/python3.12/dist-packages (from datasets) (3.6.0)\n",
      "Requirement already satisfied: multiprocess<0.70.17 in /usr/local/lib/python3.12/dist-packages (from datasets) (0.70.16)\n",
      "Requirement already satisfied: psutil in /usr/local/lib/python3.12/dist-packages (from accelerate) (5.9.5)\n",
      "Requirement already satisfied: contourpy>=1.0.1 in /usr/local/lib/python3.12/dist-packages (from matplotlib) (1.3.3)\n",
      "Requirement already satisfied: cycler>=0.10 in /usr/local/lib/python3.12/dist-packages (from matplotlib) (0.12.1)\n",
      "Requirement already satisfied: fonttools>=4.22.0 in /usr/local/lib/python3.12/dist-packages (from matplotlib) (4.60.1)\n",
      "Requirement already satisfied: kiwisolver>=1.3.1 in /usr/local/lib/python3.12/dist-packages (from matplotlib) (1.4.9)\n",
      "Requirement already satisfied: pyparsing>=2.3.1 in /usr/local/lib/python3.12/dist-packages (from matplotlib) (3.2.5)\n",
      "Requirement already satisfied: python-dateutil>=2.7 in /usr/local/lib/python3.12/dist-packages (from matplotlib) (2.9.0.post0)\n",
      "Requirement already satisfied: aiohttp!=4.0.0a0,!=4.0.0a1 in /usr/local/lib/python3.12/dist-packages (from fsspec[http]<=2025.3.0,>=2023.1.0->datasets) (3.13.0)\n",
      "Requirement already satisfied: hf-xet<2.0.0,>=1.1.3 in /usr/local/lib/python3.12/dist-packages (from huggingface-hub<1.0,>=0.34.0->transformers) (1.1.10)\n",
      "Requirement already satisfied: six>=1.5 in /usr/local/lib/python3.12/dist-packages (from python-dateutil>=2.7->matplotlib) (1.17.0)\n",
      "Requirement already satisfied: charset_normalizer<4,>=2 in /usr/local/lib/python3.12/dist-packages (from requests->transformers) (3.4.3)\n",
      "Requirement already satisfied: idna<4,>=2.5 in /usr/local/lib/python3.12/dist-packages (from requests->transformers) (3.10)\n",
      "Requirement already satisfied: urllib3<3,>=1.21.1 in /usr/local/lib/python3.12/dist-packages (from requests->transformers) (2.5.0)\n",
      "Requirement already satisfied: certifi>=2017.4.17 in /usr/local/lib/python3.12/dist-packages (from requests->transformers) (2025.10.5)\n",
      "Requirement already satisfied: mpmath<1.4,>=1.1.0 in /usr/local/lib/python3.12/dist-packages (from sympy>=1.13.3->torch) (1.3.0)\n",
      "Requirement already satisfied: MarkupSafe>=2.0 in /usr/local/lib/python3.12/dist-packages (from jinja2->torch) (3.0.3)\n",
      "Requirement already satisfied: pytz>=2020.1 in /usr/local/lib/python3.12/dist-packages (from pandas->datasets) (2025.2)\n",
      "Requirement already satisfied: tzdata>=2022.7 in /usr/local/lib/python3.12/dist-packages (from pandas->datasets) (2025.2)\n",
      "Requirement already satisfied: aiohappyeyeballs>=2.5.0 in /usr/local/lib/python3.12/dist-packages (from aiohttp!=4.0.0a0,!=4.0.0a1->fsspec[http]<=2025.3.0,>=2023.1.0->datasets) (2.6.1)\n",
      "Requirement already satisfied: aiosignal>=1.4.0 in /usr/local/lib/python3.12/dist-packages (from aiohttp!=4.0.0a0,!=4.0.0a1->fsspec[http]<=2025.3.0,>=2023.1.0->datasets) (1.4.0)\n",
      "Requirement already satisfied: attrs>=17.3.0 in /usr/local/lib/python3.12/dist-packages (from aiohttp!=4.0.0a0,!=4.0.0a1->fsspec[http]<=2025.3.0,>=2023.1.0->datasets) (25.4.0)\n",
      "Requirement already satisfied: frozenlist>=1.1.1 in /usr/local/lib/python3.12/dist-packages (from aiohttp!=4.0.0a0,!=4.0.0a1->fsspec[http]<=2025.3.0,>=2023.1.0->datasets) (1.8.0)\n",
      "Requirement already satisfied: multidict<7.0,>=4.5 in /usr/local/lib/python3.12/dist-packages (from aiohttp!=4.0.0a0,!=4.0.0a1->fsspec[http]<=2025.3.0,>=2023.1.0->datasets) (6.7.0)\n",
      "Requirement already satisfied: propcache>=0.2.0 in /usr/local/lib/python3.12/dist-packages (from aiohttp!=4.0.0a0,!=4.0.0a1->fsspec[http]<=2025.3.0,>=2023.1.0->datasets) (0.3.2)\n",
      "Requirement already satisfied: yarl<2.0,>=1.17.0 in /usr/local/lib/python3.12/dist-packages (from aiohttp!=4.0.0a0,!=4.0.0a1->fsspec[http]<=2025.3.0,>=2023.1.0->datasets) (1.22.0)\n",
      "Downloading evaluate-0.4.6-py3-none-any.whl (84 kB)\n",
      "\u001b[2K   \u001b[90m━━━━━━━━━━━━━━━━━━━━━━━━━━━━━━━━━━━━━━━━\u001b[0m \u001b[32m84.1/84.1 kB\u001b[0m \u001b[31m4.5 MB/s\u001b[0m eta \u001b[36m0:00:00\u001b[0m\n",
      "\u001b[?25hInstalling collected packages: evaluate\n",
      "Successfully installed evaluate-0.4.6\n"
     ]
    }
   ],
   "source": [
    "%pip install torch torchvision torchaudio transformers datasets evaluate accelerate peft matplotlib"
   ]
  },
  {
   "cell_type": "markdown",
   "metadata": {
    "id": "k7_NuygCgZP6"
   },
   "source": [
    "# 1. Installing and importing necessary libraries.  \n",
    "\n",
    "Prior to data processing, the required libraries and dependencies are installed and imported. The process is conducted within a Google Colab environment to leverage GPU acceleration, as the computational requirements for this task are very slow for current device (a standard CPU-only machine)."
   ]
  },
  {
   "cell_type": "code",
   "execution_count": 3,
   "metadata": {
    "id": "s9O72USZ_XeW"
   },
   "outputs": [],
   "source": [
    "import torch\n",
    "from datasets import load_dataset\n",
    "from transformers import AutoTokenizer, AutoModelForQuestionAnswering, TrainingArguments, Trainer, default_data_collator\n",
    "from peft import LoraConfig, get_peft_model, TaskType, IA3Config\n",
    "import evaluate\n",
    "import numpy as np\n",
    "import pandas as pd\n",
    "import random\n",
    "import os\n",
    "import matplotlib.pyplot as plt\n",
    "from tqdm.auto import tqdm\n",
    "import collections\n",
    "import time"
   ]
  },
  {
   "cell_type": "code",
   "execution_count": 4,
   "metadata": {
    "colab": {
     "base_uri": "https://localhost:8080/"
    },
    "id": "sDVqcUcr_oov",
    "outputId": "0d9623c6-9e43-42db-c5df-1c15ae16dca9"
   },
   "outputs": [
    {
     "data": {
      "text/plain": [
       "<torch._C.Generator at 0x781a09880bf0>"
      ]
     },
     "execution_count": 4,
     "metadata": {},
     "output_type": "execute_result"
    }
   ],
   "source": [
    "seed = 42\n",
    "random.seed(seed)\n",
    "np.random.seed(seed)\n",
    "torch.manual_seed(seed)"
   ]
  },
  {
   "cell_type": "code",
   "execution_count": 14,
   "metadata": {
    "colab": {
     "base_uri": "https://localhost:8080/"
    },
    "id": "DuwbmqzkBB3d",
    "outputId": "41cf41a2-03dd-4872-d320-83401eefb933"
   },
   "outputs": [
    {
     "name": "stdout",
     "output_type": "stream",
     "text": [
      "Device: cuda\n"
     ]
    }
   ],
   "source": [
    "device = torch.device(\"cuda\" if torch.cuda.is_available() else \"cpu\")\n",
    "print (f'Device: {device}')"
   ]
  },
  {
   "cell_type": "markdown",
   "metadata": {
    "id": "izQ2Uk0rguJ7"
   },
   "source": [
    "# 2. Loading the dataset\n",
    "The Stanford Question Answering Dataset (SQuAD) v1 is utilized for this project. SQuAD is a well-established and widely used benchmark for developing and evaluating models on extractive Question Answering tasks. The dataset is sourced from the Hugging Face datasets library.\n",
    "\n"
   ]
  },
  {
   "cell_type": "code",
   "execution_count": 5,
   "metadata": {
    "colab": {
     "base_uri": "https://localhost:8080/",
     "height": 483,
     "referenced_widgets": [
      "9d87a578de774a3f9092918378e2958b",
      "46d1a4e922684749b243b2a6e675630a",
      "c3585e4316084a229716c367b3f54eed",
      "d7f503f8f02a45e7a4a6aee572385ddf",
      "3b3958d6532e4293ac9d015939263940",
      "8a5eb4ecb1684aaca0dfa22defc350a2",
      "354f9aec3ed144718b81e4c4f2987f6f",
      "1cdde4c4ebb144dd9fd2884118fff7e1",
      "1ab5191517e84dc3a61ccc606c570116",
      "775c6ddcadd44ef195105a9c838c375e",
      "a3c21d04551f45e283624a8dd34abbce",
      "deb6fe593771434f993b64ac01faf8ee",
      "abf66c86f2c64060bdf27961c92e43ae",
      "791e162423d84f118d2cc5b73e757e4a",
      "60c6c8cd517649258914aeb63396a3cc",
      "7b7ebdae63d84853848848d8f53905ed",
      "6a206aa8c84343c29c66f20993722cec",
      "20a33d341008492c9d93c7c4f36d0266",
      "a49f7b8080ce407ea387e9e73c3e9af5",
      "9136b77b6cab4b3f950a627331806c53",
      "a8242daf8e5d4122b687950b3d5e79fa",
      "6d300ddb6d274afda8f0946e045cf88f",
      "f3354f70a45241ba8cf7c55396fb0887",
      "b9289418129e450e882940a5f0f77b18",
      "9362c0b2016d422fa75bb6a6b929ce9c",
      "e090d26c0bdc4806bfd8b485c8da96ab",
      "82b63c62dd654bae9e15db1aeedbacb1",
      "47aa0044c45841b3ab8c2bb9debc5e00",
      "20813ed12e52493f9050cefa2f4f8d59",
      "3bbb2bc8e7cb438a91585b47533052c5",
      "a4df00f1d72c484cbdf1e5e003b7023f",
      "88e737d67e7a41a499f193290dc7670f",
      "4a3c1215e7cb49cfaf3debf0cb9fe98c",
      "c5e84e893d224475bc2bf64d075c8bee",
      "23780927bc82415b875f931984c7f19f",
      "4aece6d6f19d4162a7ff91c917e0d474",
      "58008bce96c24ccaa2b6fde127e1d4ca",
      "3e0218084a5145798b0dcd4ef79bdd8c",
      "37ebd5c203a54c0b9a36c15e9123e577",
      "809bc2f5661345e6833d8d8a0c9a1276",
      "0ef16a9f37fa40e586453966282193f2",
      "b0ead681092e42009964659fbdfed55b",
      "2a43ca75bba34e9f9b5113275a93a52b",
      "19bd121a8ddd40ae957b7b6e37a8c358",
      "5cd138e4f50540d9b4a59003b485d95b",
      "f39e7c8153254e32a1d91b3a84d86149",
      "d9ced9f0c91b445ab6622beaa63b5536",
      "4ea3bc95dbe44e0785e71ebf21219978",
      "b18585612f3047af9ef16773a3127335",
      "a6dc7554a75e47ae8dab8adb948053d5",
      "32039abc00f14ae49e32a8e4dccf0ec9",
      "85bdab94c5574ffe9fc7527cbfd5a4aa",
      "a5be1d58f08a4fa894289145e47d9342",
      "e71b4bba73e347e9bfffcbf0559eab40",
      "d8647ce205584bb4a67af2e6694b2a03"
     ]
    },
    "id": "q6w1sMYH_rEu",
    "outputId": "c40fb511-bc5c-45fc-ebdc-9fa6e10408a8"
   },
   "outputs": [
    {
     "name": "stderr",
     "output_type": "stream",
     "text": [
      "/usr/local/lib/python3.12/dist-packages/huggingface_hub/utils/_auth.py:94: UserWarning: \n",
      "The secret `HF_TOKEN` does not exist in your Colab secrets.\n",
      "To authenticate with the Hugging Face Hub, create a token in your settings tab (https://huggingface.co/settings/tokens), set it as secret in your Google Colab and restart your session.\n",
      "You will be able to reuse this secret in all of your notebooks.\n",
      "Please note that authentication is recommended but still optional to access public models or datasets.\n",
      "  warnings.warn(\n"
     ]
    },
    {
     "data": {
      "application/vnd.jupyter.widget-view+json": {
       "model_id": "9d87a578de774a3f9092918378e2958b",
       "version_major": 2,
       "version_minor": 0
      },
      "text/plain": [
       "README.md: 0.00B [00:00, ?B/s]"
      ]
     },
     "metadata": {},
     "output_type": "display_data"
    },
    {
     "data": {
      "application/vnd.jupyter.widget-view+json": {
       "model_id": "deb6fe593771434f993b64ac01faf8ee",
       "version_major": 2,
       "version_minor": 0
      },
      "text/plain": [
       "plain_text/train-00000-of-00001.parquet:   0%|          | 0.00/14.5M [00:00<?, ?B/s]"
      ]
     },
     "metadata": {},
     "output_type": "display_data"
    },
    {
     "data": {
      "application/vnd.jupyter.widget-view+json": {
       "model_id": "f3354f70a45241ba8cf7c55396fb0887",
       "version_major": 2,
       "version_minor": 0
      },
      "text/plain": [
       "plain_text/validation-00000-of-00001.par(…):   0%|          | 0.00/1.82M [00:00<?, ?B/s]"
      ]
     },
     "metadata": {},
     "output_type": "display_data"
    },
    {
     "data": {
      "application/vnd.jupyter.widget-view+json": {
       "model_id": "c5e84e893d224475bc2bf64d075c8bee",
       "version_major": 2,
       "version_minor": 0
      },
      "text/plain": [
       "Generating train split:   0%|          | 0/87599 [00:00<?, ? examples/s]"
      ]
     },
     "metadata": {},
     "output_type": "display_data"
    },
    {
     "data": {
      "application/vnd.jupyter.widget-view+json": {
       "model_id": "5cd138e4f50540d9b4a59003b485d95b",
       "version_major": 2,
       "version_minor": 0
      },
      "text/plain": [
       "Generating validation split:   0%|          | 0/10570 [00:00<?, ? examples/s]"
      ]
     },
     "metadata": {},
     "output_type": "display_data"
    },
    {
     "name": "stdout",
     "output_type": "stream",
     "text": [
      "DatasetDict({\n",
      "    train: Dataset({\n",
      "        features: ['id', 'title', 'context', 'question', 'answers'],\n",
      "        num_rows: 87599\n",
      "    })\n",
      "    validation: Dataset({\n",
      "        features: ['id', 'title', 'context', 'question', 'answers'],\n",
      "        num_rows: 10570\n",
      "    })\n",
      "})\n"
     ]
    }
   ],
   "source": [
    "dataset = load_dataset(\"squad\")\n",
    "print(dataset)"
   ]
  },
  {
   "cell_type": "code",
   "execution_count": 6,
   "metadata": {
    "colab": {
     "base_uri": "https://localhost:8080/"
    },
    "id": "Bf7mtgwA_uEJ",
    "outputId": "bf612195-6027-4264-f2e6-153e53ee6935"
   },
   "outputs": [
    {
     "name": "stdout",
     "output_type": "stream",
     "text": [
      "Example question: To whom did the Virgin Mary allegedly appear in 1858 in Lourdes France?\n",
      "Context snippet: Architecturally, the school has a Catholic character. Atop the Main Building's gold dome is a golden statue of the Virgin Mary. Immediately in front of the Main Building and facing it, is a copper sta ...\n",
      "Answer: {'text': ['Saint Bernadette Soubirous'], 'answer_start': [515]}\n"
     ]
    }
   ],
   "source": [
    "# look at one example\n",
    "example = dataset[\"train\"][0]\n",
    "print(\"Example question:\", example[\"question\"])\n",
    "print(\"Context snippet:\", example[\"context\"][:200], \"...\")\n",
    "print(\"Answer:\", example[\"answers\"])"
   ]
  },
  {
   "cell_type": "markdown",
   "metadata": {
    "id": "1uS9vaaRhENH"
   },
   "source": [
    "# 3. Initialize tokenizer\n",
    "\n",
    "DistilBERT was selected for this task due to its highly efficient architecture. As a smaller, distilled version of the BERT model, it provides significantly faster inference and requires fewer computational resources for training. Crucially, these advantages in efficiency are achieved while maintaining performance levels that are comparable to its larger, more resource-intensive counterparts."
   ]
  },
  {
   "cell_type": "code",
   "execution_count": 7,
   "metadata": {
    "colab": {
     "base_uri": "https://localhost:8080/",
     "height": 201,
     "referenced_widgets": [
      "23ca4cbbb5c54139a8d729d1d69ca58b",
      "e62063695843492c8be9ad8349bb5d07",
      "7bea61703e5441bcbd0aee2536b517dd",
      "88710c75c634487c858bbe52da3069e3",
      "164e53a7014c44b880d42b2d59adfb22",
      "03d1dd912c0c4a2999c8b3bc1e4f7961",
      "67f725253bad411295dcba05ed530d79",
      "c3a72388252b4f7e8dfd15782981fcba",
      "cf555141dfca47fea6ceaae297040c49",
      "cb9553d7617e40b7a06379d4258f7edb",
      "987dc065172c4d4fb7ff14a30bf02018",
      "4a61d1d55889403298a8d3119c5344d5",
      "a21211aff997475c94d7574f2704b296",
      "49f577d0b8a0404e86d8b2b030dbbeb7",
      "707313d3c02a49649c9250f4104cd8fd",
      "cab6d2cb20af457b9c06f84d00231e76",
      "4ec940639c034e3986fc3564cba1ae8a",
      "aafc479df1e64f4bb98debc5048ae7ca",
      "83167c07be864f42be3aef77da0f3762",
      "1dacde8dd30e46e5b0cc26318c1b8541",
      "f30383cf0a644e099f1e2c395fb5c469",
      "9e62aa7875564bd88cc69e1debc23c3f",
      "d30d5948229541e9b613c5368b37f652",
      "2708154924254210a0f121952b5aeaf8",
      "771100d2dec046bbac0821db5d5d5b07",
      "9f1a61d6869f4eaf9b87526b444daf2c",
      "eeba42cba43f476fb63371b37c7f4fac",
      "2b53c6c2d2114a5a855986ce70cbdc67",
      "b74a3101359f46a1828dc89581630f86",
      "939abe3fdb944e41bd80b5bc67ec97ee",
      "c0e16a6cf639426e858c8ef693ad1160",
      "6ca484c166be4101bf136f4c8f3ae9b1",
      "8192449f72134aceb57b83365d5fd1f2",
      "08a442d649914def970097fa23ababf8",
      "c084edac1407492aad7b7dd5a198dabc",
      "2bc7b0a6c1494774b1efb0c6fcacd8a9",
      "19996622d6344731a27cdb8b59801049",
      "a6560199dff74b9186827ecf3e6e78d6",
      "713b8a90857d4beb9ddf3da7228e70a0",
      "406b3337996e47769c3a00f426caac2d",
      "c9e6513b48424d2ca43f5c7d54b01e5f",
      "db9d8eb51d1142efb3ec88a32fd9e23d",
      "5d98226a116e45b28b3c78f3ae24d7d8",
      "ec2778f550dc4482aaa68f7c35d6c046"
     ]
    },
    "id": "s9XtLPr5_v1a",
    "outputId": "f61919ab-73fd-49ae-84c6-38ec883bb0e7"
   },
   "outputs": [
    {
     "data": {
      "application/vnd.jupyter.widget-view+json": {
       "model_id": "23ca4cbbb5c54139a8d729d1d69ca58b",
       "version_major": 2,
       "version_minor": 0
      },
      "text/plain": [
       "tokenizer_config.json:   0%|          | 0.00/48.0 [00:00<?, ?B/s]"
      ]
     },
     "metadata": {},
     "output_type": "display_data"
    },
    {
     "data": {
      "application/vnd.jupyter.widget-view+json": {
       "model_id": "4a61d1d55889403298a8d3119c5344d5",
       "version_major": 2,
       "version_minor": 0
      },
      "text/plain": [
       "config.json:   0%|          | 0.00/483 [00:00<?, ?B/s]"
      ]
     },
     "metadata": {},
     "output_type": "display_data"
    },
    {
     "data": {
      "application/vnd.jupyter.widget-view+json": {
       "model_id": "d30d5948229541e9b613c5368b37f652",
       "version_major": 2,
       "version_minor": 0
      },
      "text/plain": [
       "vocab.txt:   0%|          | 0.00/232k [00:00<?, ?B/s]"
      ]
     },
     "metadata": {},
     "output_type": "display_data"
    },
    {
     "data": {
      "application/vnd.jupyter.widget-view+json": {
       "model_id": "08a442d649914def970097fa23ababf8",
       "version_major": 2,
       "version_minor": 0
      },
      "text/plain": [
       "tokenizer.json:   0%|          | 0.00/466k [00:00<?, ?B/s]"
      ]
     },
     "metadata": {},
     "output_type": "display_data"
    },
    {
     "name": "stdout",
     "output_type": "stream",
     "text": [
      "KeysView({'input_ids': [101, 2000, 3183, 2106, 1996, 6261, 2984, 9382, 3711, 1999, 8517, 1999, 10223, 26371, 2605, 1029, 102, 6549, 2135, 1010, 1996, 2082, 2038, 1037, 3234, 2839, 1012, 10234, 1996, 2364, 2311, 1005, 1055, 2751, 8514, 2003, 1037, 3585, 6231, 1997, 1996, 6261, 2984, 1012, 3202, 1999, 2392, 1997, 1996, 2364, 2311, 1998, 5307, 2009, 1010, 2003, 1037, 6967, 6231, 1997, 4828, 2007, 2608, 2039, 14995, 6924, 2007, 1996, 5722, 1000, 2310, 3490, 2618, 4748, 2033, 18168, 5267, 1000, 1012, 2279, 2000, 1996, 2364, 2311, 2003, 1996, 13546, 1997, 1996, 6730, 2540, 1012, 3202, 2369, 1996, 13546, 2003, 1996, 24665, 23052, 1010, 1037, 14042, 2173, 1997, 7083, 1998, 9185, 1012, 2009, 2003, 1037, 15059, 1997, 1996, 24665, 23052, 2012, 10223, 26371, 1010, 2605, 2073, 1996, 6261, 2984, 22353, 2135, 2596, 2000, 3002, 16595, 9648, 4674, 2061, 12083, 9711, 2271, 1999, 8517, 1012, 2012, 1996, 2203, 1997, 1996, 2364, 3298, 1006, 1998, 1999, 1037, 3622, 2240, 2008, 8539, 2083, 1017, 11342, 1998, 1996, 2751, 8514, 1007, 1010, 2003, 1037, 3722, 1010, 2715, 2962, 6231, 1997, 2984, 1012, 102], 'attention_mask': [1, 1, 1, 1, 1, 1, 1, 1, 1, 1, 1, 1, 1, 1, 1, 1, 1, 1, 1, 1, 1, 1, 1, 1, 1, 1, 1, 1, 1, 1, 1, 1, 1, 1, 1, 1, 1, 1, 1, 1, 1, 1, 1, 1, 1, 1, 1, 1, 1, 1, 1, 1, 1, 1, 1, 1, 1, 1, 1, 1, 1, 1, 1, 1, 1, 1, 1, 1, 1, 1, 1, 1, 1, 1, 1, 1, 1, 1, 1, 1, 1, 1, 1, 1, 1, 1, 1, 1, 1, 1, 1, 1, 1, 1, 1, 1, 1, 1, 1, 1, 1, 1, 1, 1, 1, 1, 1, 1, 1, 1, 1, 1, 1, 1, 1, 1, 1, 1, 1, 1, 1, 1, 1, 1, 1, 1, 1, 1, 1, 1, 1, 1, 1, 1, 1, 1, 1, 1, 1, 1, 1, 1, 1, 1, 1, 1, 1, 1, 1, 1, 1, 1, 1, 1, 1, 1, 1, 1, 1, 1, 1, 1, 1, 1, 1, 1, 1, 1, 1, 1, 1, 1, 1, 1, 1, 1]})\n",
      "Number of tokens: 176\n"
     ]
    }
   ],
   "source": [
    "tokenizer = AutoTokenizer.from_pretrained(\"distilbert-base-uncased\", use_fast=True)\n",
    "# model = AutoModelForQuestionAnswering.from_pretrained(\"distilbert-base-uncased\").to(device)\n",
    "\n",
    "tokens = tokenizer(example[\"question\"], example[\"context\"])\n",
    "print(tokens.keys())\n",
    "print(\"Number of tokens:\", len(tokens[\"input_ids\"]))"
   ]
  },
  {
   "cell_type": "code",
   "execution_count": 8,
   "metadata": {
    "id": "DMDaNs96AEBY"
   },
   "outputs": [],
   "source": [
    "def prepare_train_features(examples):\n",
    "    #tokenize question, answer pair\n",
    "    tokenized_examples = tokenizer(\n",
    "        examples[\"question\"],\n",
    "        examples[\"context\"],\n",
    "        truncation=\"only_second\",\n",
    "        max_length=256,\n",
    "        stride=64,\n",
    "        return_overflowing_tokens=True,\n",
    "        return_offsets_mapping=True,\n",
    "        padding=\"max_length\",\n",
    "    )\n",
    "\n",
    "    sample_mapping = tokenized_examples.pop(\"overflow_to_sample_mapping\")\n",
    "    offset_mapping = tokenized_examples[\"offset_mapping\"]\n",
    "\n",
    "    tokenized_examples[\"start_positions\"] = []\n",
    "    tokenized_examples[\"end_positions\"] = []\n",
    "    tokenized_examples[\"example_id\"] = []\n",
    "\n",
    "    for i, offsets in enumerate(offset_mapping):\n",
    "        input_ids = tokenized_examples[\"input_ids\"][i]\n",
    "        sequence_ids = tokenized_examples.sequence_ids(i)\n",
    "        sample_index = sample_mapping[i]\n",
    "        answers = examples[\"answers\"][sample_index]\n",
    "\n",
    "        tokenized_examples[\"example_id\"].append(examples[\"id\"][sample_index])\n",
    "\n",
    "        start_char = answers[\"answer_start\"][0]\n",
    "        end_char = start_char + len(answers[\"text\"][0])\n",
    "        token_start_index = 0\n",
    "        while sequence_ids[token_start_index] != 1: token_start_index += 1\n",
    "        token_end_index = len(input_ids) - 1\n",
    "        while sequence_ids[token_end_index] != 1: token_end_index -= 1\n",
    "        if offsets[token_start_index][0] > start_char or offsets[token_end_index][1] < end_char:\n",
    "            tokenized_examples[\"start_positions\"].append(0)\n",
    "            tokenized_examples[\"end_positions\"].append(0)\n",
    "        else:\n",
    "            while token_start_index < len(offsets) and offsets[token_start_index][0] <= start_char: token_start_index += 1\n",
    "            start_pos = token_start_index - 1\n",
    "            while token_end_index >= 0 and offsets[token_end_index][1] >= end_char: token_end_index -= 1\n",
    "            end_pos = token_end_index + 1\n",
    "            tokenized_examples[\"start_positions\"].append(start_pos)\n",
    "            tokenized_examples[\"end_positions\"].append(end_pos)\n",
    "\n",
    "    return tokenized_examples"
   ]
  },
  {
   "cell_type": "code",
   "execution_count": 9,
   "metadata": {
    "colab": {
     "base_uri": "https://localhost:8080/",
     "height": 152,
     "referenced_widgets": [
      "397f703e8fb44f20b68b9be265f440cc",
      "706f0d6f656b4cf787694d76cadadb39",
      "11ddd60ac47d46369be1a8cafe85fd7c",
      "9fc57db578444d3f926776bf225b10b8",
      "e49e378cff224b30ac876587dc2f4426",
      "5350135a93884040a21c8caacbcd87c8",
      "3021977e76324d77ae3259ab38becd0c",
      "33e148af7f374b7394ade08c355f1ca2",
      "53aa9ad3d720421e8d1c9833653c3db9",
      "9bac792202ab45c7bc6e65368f18ae81",
      "c5a602b60ec449cd84b8c6505981102d",
      "99c0b6147f7a44669d62b396faf86107",
      "5dc48b519ffb438d9f0137483ccec60d",
      "54616d3f35cf4baa947efe461b3a8564",
      "f7a0fa3d8cb2420d8ea69c8d439d40b1",
      "dde0ba8e887646c4befe7b1b44237a62",
      "e6a7f1b0d6694cbc8e840be9de32dc86",
      "9180080a18164b80a72ac4e144d90c74",
      "51fadc34b5a34da392de1acd677192aa",
      "86b1bd16ff97438fa1cc46ec156a4d08",
      "4e7d34e932004dc68a554346ff09f98a",
      "471364e49fa24d2a93b12ac98647d898"
     ]
    },
    "id": "tpG_iCRuAFL2",
    "outputId": "d6f5f5cd-e675-47eb-a213-946a4e3c1fb1"
   },
   "outputs": [
    {
     "data": {
      "application/vnd.jupyter.widget-view+json": {
       "model_id": "397f703e8fb44f20b68b9be265f440cc",
       "version_major": 2,
       "version_minor": 0
      },
      "text/plain": [
       "Tokenizing train set:   0%|          | 0/87599 [00:00<?, ? examples/s]"
      ]
     },
     "metadata": {},
     "output_type": "display_data"
    },
    {
     "data": {
      "application/vnd.jupyter.widget-view+json": {
       "model_id": "99c0b6147f7a44669d62b396faf86107",
       "version_major": 2,
       "version_minor": 0
      },
      "text/plain": [
       "Tokenizing validation set:   0%|          | 0/10570 [00:00<?, ? examples/s]"
      ]
     },
     "metadata": {},
     "output_type": "display_data"
    },
    {
     "name": "stdout",
     "output_type": "stream",
     "text": [
      "Dataset({\n",
      "    features: ['input_ids', 'attention_mask', 'offset_mapping', 'start_positions', 'end_positions', 'example_id'],\n",
      "    num_rows: 96487\n",
      "})\n"
     ]
    }
   ],
   "source": [
    "train_dataset = dataset[\"train\"].map(\n",
    "    prepare_train_features,\n",
    "    batched=True,\n",
    "    remove_columns=dataset[\"train\"].column_names,\n",
    "    desc=\"Tokenizing train set\",\n",
    ")\n",
    "\n",
    "validation_dataset = dataset[\"validation\"].map(\n",
    "    prepare_train_features,\n",
    "    batched=True,\n",
    "    remove_columns=dataset[\"validation\"].column_names,\n",
    "    desc=\"Tokenizing validation set\",\n",
    ")\n",
    "\n",
    "print(train_dataset)"
   ]
  },
  {
   "cell_type": "code",
   "execution_count": 10,
   "metadata": {
    "colab": {
     "base_uri": "https://localhost:8080/"
    },
    "id": "StqqXSbtAIEO",
    "outputId": "0766adf4-7e9c-4632-ec0e-ccf1e6b7b412"
   },
   "outputs": [
    {
     "name": "stdout",
     "output_type": "stream",
     "text": [
      "Input IDs: [101, 2000, 3183, 2106, 1996, 6261, 2984, 9382, 3711, 1999, 8517, 1999, 10223, 26371, 2605, 1029, 102, 6549, 2135, 1010]\n",
      "Start position: 130\n",
      "End position: 137\n",
      "Decoded context snippet: [CLS] to whom did the virgin mary allegedly appear in 1858 in lourdes france? [SEP] architecturally, the school has a catholic character. atop the main building ' s gold dome is a golden statue of the virgin mary. immediately in front of the main building and facing it, is a copper statue of christ \n"
     ]
    }
   ],
   "source": [
    "sample = train_dataset[0]\n",
    "print(\"Input IDs:\", sample[\"input_ids\"][:20])\n",
    "print(\"Start position:\", sample[\"start_positions\"])\n",
    "print(\"End position:\", sample[\"end_positions\"])\n",
    "\n",
    "decoded_context = tokenizer.decode(sample[\"input_ids\"])\n",
    "print(\"Decoded context snippet:\", decoded_context[:300])"
   ]
  },
  {
   "cell_type": "markdown",
   "metadata": {
    "id": "BCSXeskPjXk1"
   },
   "source": [
    "# 4. Two finetuned models\n",
    "This analysis aims to compare the performance of two distinct parameter-efficient fine-tuning (PEFT) methods: Low-Rank Adaptation (LoRA) and Infused Adapter by Inhibiting and Amplifying Inner Activations ((IA)3)."
   ]
  },
  {
   "cell_type": "markdown",
   "metadata": {
    "id": "HzNPkCvWhTzi"
   },
   "source": [
    "## Hyperparameter tuning (sweep) on two finetuned model.\n",
    "To determine the optimal training configuration for two distinct parameter-efficient fine-tuning (PEFT) methods, a comparative hyperparameter sweep was performed. The sweep focused specifically on the learning rate, a critical hyperparameter that profoundly influences training stability, convergence speed, and final model performance. To ensure this optimization process was computationally tractable, the sweep was executed on a smaller, representative subset of the dataset."
   ]
  },
  {
   "cell_type": "code",
   "execution_count": 11,
   "metadata": {
    "id": "3f5AgOuIAdjO"
   },
   "outputs": [],
   "source": [
    "num_samples_sweep = int(0.1 * len(train_dataset)) # Using 10% of the data\n",
    "sweep_train_dataset = train_dataset.select(range(num_samples_sweep))\n",
    "num_samples_eval_sweep = int(0.1 * len(validation_dataset))\n",
    "sweep_eval_dataset = validation_dataset.select(range(num_samples_eval_sweep))"
   ]
  },
  {
   "cell_type": "code",
   "execution_count": 16,
   "metadata": {
    "colab": {
     "base_uri": "https://localhost:8080/",
     "height": 580
    },
    "id": "28mLjIUZAgsA",
    "outputId": "250dd13d-49c8-48b9-d1bd-174e99a29aa9"
   },
   "outputs": [
    {
     "name": "stderr",
     "output_type": "stream",
     "text": [
      "Some weights of DistilBertForQuestionAnswering were not initialized from the model checkpoint at distilbert-base-uncased and are newly initialized: ['qa_outputs.bias', 'qa_outputs.weight']\n",
      "You should probably TRAIN this model on a down-stream task to be able to use it for predictions and inference.\n"
     ]
    },
    {
     "name": "stdout",
     "output_type": "stream",
     "text": [
      "\n",
      "--- LoRA Sweep: Testing Learning Rate: 5e-05 ---\n"
     ]
    },
    {
     "data": {
      "text/html": [
       "\n",
       "    <div>\n",
       "      \n",
       "      <progress value='1206' max='1206' style='width:300px; height:20px; vertical-align: middle;'></progress>\n",
       "      [1206/1206 02:59, Epoch 1/1]\n",
       "    </div>\n",
       "    <table border=\"1\" class=\"dataframe\">\n",
       "  <thead>\n",
       " <tr style=\"text-align: left;\">\n",
       "      <th>Epoch</th>\n",
       "      <th>Training Loss</th>\n",
       "      <th>Validation Loss</th>\n",
       "    </tr>\n",
       "  </thead>\n",
       "  <tbody>\n",
       "    <tr>\n",
       "      <td>1</td>\n",
       "      <td>3.618800</td>\n",
       "      <td>3.555562</td>\n",
       "    </tr>\n",
       "  </tbody>\n",
       "</table><p>"
      ],
      "text/plain": [
       "<IPython.core.display.HTML object>"
      ]
     },
     "metadata": {},
     "output_type": "display_data"
    },
    {
     "data": {
      "text/html": [
       "\n",
       "    <div>\n",
       "      \n",
       "      <progress value='149' max='149' style='width:300px; height:20px; vertical-align: middle;'></progress>\n",
       "      [149/149 00:09]\n",
       "    </div>\n",
       "    "
      ],
      "text/plain": [
       "<IPython.core.display.HTML object>"
      ]
     },
     "metadata": {},
     "output_type": "display_data"
    },
    {
     "name": "stderr",
     "output_type": "stream",
     "text": [
      "Some weights of DistilBertForQuestionAnswering were not initialized from the model checkpoint at distilbert-base-uncased and are newly initialized: ['qa_outputs.bias', 'qa_outputs.weight']\n",
      "You should probably TRAIN this model on a down-stream task to be able to use it for predictions and inference.\n"
     ]
    },
    {
     "name": "stdout",
     "output_type": "stream",
     "text": [
      "\n",
      "--- LoRA Sweep: Testing Learning Rate: 3e-05 ---\n"
     ]
    },
    {
     "data": {
      "text/html": [
       "\n",
       "    <div>\n",
       "      \n",
       "      <progress value='1206' max='1206' style='width:300px; height:20px; vertical-align: middle;'></progress>\n",
       "      [1206/1206 03:01, Epoch 1/1]\n",
       "    </div>\n",
       "    <table border=\"1\" class=\"dataframe\">\n",
       "  <thead>\n",
       " <tr style=\"text-align: left;\">\n",
       "      <th>Epoch</th>\n",
       "      <th>Training Loss</th>\n",
       "      <th>Validation Loss</th>\n",
       "    </tr>\n",
       "  </thead>\n",
       "  <tbody>\n",
       "    <tr>\n",
       "      <td>1</td>\n",
       "      <td>3.873200</td>\n",
       "      <td>3.761619</td>\n",
       "    </tr>\n",
       "  </tbody>\n",
       "</table><p>"
      ],
      "text/plain": [
       "<IPython.core.display.HTML object>"
      ]
     },
     "metadata": {},
     "output_type": "display_data"
    },
    {
     "data": {
      "text/html": [
       "\n",
       "    <div>\n",
       "      \n",
       "      <progress value='149' max='149' style='width:300px; height:20px; vertical-align: middle;'></progress>\n",
       "      [149/149 00:09]\n",
       "    </div>\n",
       "    "
      ],
      "text/plain": [
       "<IPython.core.display.HTML object>"
      ]
     },
     "metadata": {},
     "output_type": "display_data"
    },
    {
     "name": "stderr",
     "output_type": "stream",
     "text": [
      "Some weights of DistilBertForQuestionAnswering were not initialized from the model checkpoint at distilbert-base-uncased and are newly initialized: ['qa_outputs.bias', 'qa_outputs.weight']\n",
      "You should probably TRAIN this model on a down-stream task to be able to use it for predictions and inference.\n"
     ]
    },
    {
     "name": "stdout",
     "output_type": "stream",
     "text": [
      "\n",
      "--- LoRA Sweep: Testing Learning Rate: 1e-05 ---\n"
     ]
    },
    {
     "data": {
      "text/html": [
       "\n",
       "    <div>\n",
       "      \n",
       "      <progress value='1206' max='1206' style='width:300px; height:20px; vertical-align: middle;'></progress>\n",
       "      [1206/1206 03:01, Epoch 1/1]\n",
       "    </div>\n",
       "    <table border=\"1\" class=\"dataframe\">\n",
       "  <thead>\n",
       " <tr style=\"text-align: left;\">\n",
       "      <th>Epoch</th>\n",
       "      <th>Training Loss</th>\n",
       "      <th>Validation Loss</th>\n",
       "    </tr>\n",
       "  </thead>\n",
       "  <tbody>\n",
       "    <tr>\n",
       "      <td>1</td>\n",
       "      <td>5.187300</td>\n",
       "      <td>4.966222</td>\n",
       "    </tr>\n",
       "  </tbody>\n",
       "</table><p>"
      ],
      "text/plain": [
       "<IPython.core.display.HTML object>"
      ]
     },
     "metadata": {},
     "output_type": "display_data"
    },
    {
     "data": {
      "text/html": [
       "\n",
       "    <div>\n",
       "      \n",
       "      <progress value='149' max='149' style='width:300px; height:20px; vertical-align: middle;'></progress>\n",
       "      [149/149 00:09]\n",
       "    </div>\n",
       "    "
      ],
      "text/plain": [
       "<IPython.core.display.HTML object>"
      ]
     },
     "metadata": {},
     "output_type": "display_data"
    }
   ],
   "source": [
    "learning_rates = [5e-5, 3e-5, 1e-5]; results = {}\n",
    "for lr in learning_rates:\n",
    "    print(f\"\\n--- LoRA Sweep: Testing Learning Rate: {lr} ---\")\n",
    "    model_sweep = AutoModelForQuestionAnswering.from_pretrained(\"distilbert-base-uncased\")\n",
    "    lora_config_sweep = LoraConfig(r=16,\n",
    "                                   lora_alpha=32,\n",
    "                                   lora_dropout=0.1,\n",
    "                                   task_type=TaskType.QUESTION_ANS,\n",
    "                                   target_modules=[\"q_lin\", \"v_lin\"])\n",
    "\n",
    "    lora_model_sweep = get_peft_model(model_sweep, lora_config_sweep).to(device)\n",
    "\n",
    "    sweep_args = TrainingArguments(output_dir=f\"./sweep_lora_lr_{lr}\",\n",
    "                                   eval_strategy=\"epoch\",\n",
    "                                   learning_rate=lr,\n",
    "                                   per_device_train_batch_size=8,\n",
    "                                   num_train_epochs=1,\n",
    "                                   weight_decay=0.01,\n",
    "                                   report_to=\"none\")\n",
    "\n",
    "    sweep_trainer = Trainer(model=lora_model_sweep,\n",
    "                            args=sweep_args,\n",
    "                            train_dataset=sweep_train_dataset,\n",
    "                            eval_dataset=sweep_eval_dataset)\n",
    "    sweep_trainer.train()\n",
    "    eval_metrics = sweep_trainer.evaluate()\n",
    "    results[lr] = eval_metrics[\"eval_loss\"]\n",
    "best_lr = min(results, key=results.get)"
   ]
  },
  {
   "cell_type": "code",
   "execution_count": 21,
   "metadata": {
    "colab": {
     "base_uri": "https://localhost:8080/",
     "height": 580
    },
    "id": "LEb79r4XYPtI",
    "outputId": "425da8b9-ce12-44ac-f4a7-bc79d9e6852a"
   },
   "outputs": [
    {
     "name": "stdout",
     "output_type": "stream",
     "text": [
      "\n",
      "--- (IA)3 Sweep: Testing LR: 5e-05 ---\n"
     ]
    },
    {
     "name": "stderr",
     "output_type": "stream",
     "text": [
      "Some weights of DistilBertForQuestionAnswering were not initialized from the model checkpoint at distilbert-base-uncased and are newly initialized: ['qa_outputs.bias', 'qa_outputs.weight']\n",
      "You should probably TRAIN this model on a down-stream task to be able to use it for predictions and inference.\n"
     ]
    },
    {
     "data": {
      "text/html": [
       "\n",
       "    <div>\n",
       "      \n",
       "      <progress value='1206' max='1206' style='width:300px; height:20px; vertical-align: middle;'></progress>\n",
       "      [1206/1206 03:13, Epoch 1/1]\n",
       "    </div>\n",
       "    <table border=\"1\" class=\"dataframe\">\n",
       "  <thead>\n",
       " <tr style=\"text-align: left;\">\n",
       "      <th>Epoch</th>\n",
       "      <th>Training Loss</th>\n",
       "      <th>Validation Loss</th>\n",
       "    </tr>\n",
       "  </thead>\n",
       "  <tbody>\n",
       "    <tr>\n",
       "      <td>1</td>\n",
       "      <td>4.964900</td>\n",
       "      <td>4.802255</td>\n",
       "    </tr>\n",
       "  </tbody>\n",
       "</table><p>"
      ],
      "text/plain": [
       "<IPython.core.display.HTML object>"
      ]
     },
     "metadata": {},
     "output_type": "display_data"
    },
    {
     "data": {
      "text/html": [
       "\n",
       "    <div>\n",
       "      \n",
       "      <progress value='149' max='149' style='width:300px; height:20px; vertical-align: middle;'></progress>\n",
       "      [149/149 00:09]\n",
       "    </div>\n",
       "    "
      ],
      "text/plain": [
       "<IPython.core.display.HTML object>"
      ]
     },
     "metadata": {},
     "output_type": "display_data"
    },
    {
     "name": "stderr",
     "output_type": "stream",
     "text": [
      "Some weights of DistilBertForQuestionAnswering were not initialized from the model checkpoint at distilbert-base-uncased and are newly initialized: ['qa_outputs.bias', 'qa_outputs.weight']\n",
      "You should probably TRAIN this model on a down-stream task to be able to use it for predictions and inference.\n"
     ]
    },
    {
     "name": "stdout",
     "output_type": "stream",
     "text": [
      "\n",
      "--- (IA)3 Sweep: Testing LR: 3e-05 ---\n"
     ]
    },
    {
     "data": {
      "text/html": [
       "\n",
       "    <div>\n",
       "      \n",
       "      <progress value='1206' max='1206' style='width:300px; height:20px; vertical-align: middle;'></progress>\n",
       "      [1206/1206 03:05, Epoch 1/1]\n",
       "    </div>\n",
       "    <table border=\"1\" class=\"dataframe\">\n",
       "  <thead>\n",
       " <tr style=\"text-align: left;\">\n",
       "      <th>Epoch</th>\n",
       "      <th>Training Loss</th>\n",
       "      <th>Validation Loss</th>\n",
       "    </tr>\n",
       "  </thead>\n",
       "  <tbody>\n",
       "    <tr>\n",
       "      <td>1</td>\n",
       "      <td>5.228000</td>\n",
       "      <td>5.143240</td>\n",
       "    </tr>\n",
       "  </tbody>\n",
       "</table><p>"
      ],
      "text/plain": [
       "<IPython.core.display.HTML object>"
      ]
     },
     "metadata": {},
     "output_type": "display_data"
    },
    {
     "data": {
      "text/html": [
       "\n",
       "    <div>\n",
       "      \n",
       "      <progress value='149' max='149' style='width:300px; height:20px; vertical-align: middle;'></progress>\n",
       "      [149/149 00:09]\n",
       "    </div>\n",
       "    "
      ],
      "text/plain": [
       "<IPython.core.display.HTML object>"
      ]
     },
     "metadata": {},
     "output_type": "display_data"
    },
    {
     "name": "stderr",
     "output_type": "stream",
     "text": [
      "Some weights of DistilBertForQuestionAnswering were not initialized from the model checkpoint at distilbert-base-uncased and are newly initialized: ['qa_outputs.bias', 'qa_outputs.weight']\n",
      "You should probably TRAIN this model on a down-stream task to be able to use it for predictions and inference.\n"
     ]
    },
    {
     "name": "stdout",
     "output_type": "stream",
     "text": [
      "\n",
      "--- (IA)3 Sweep: Testing LR: 1e-05 ---\n"
     ]
    },
    {
     "data": {
      "text/html": [
       "\n",
       "    <div>\n",
       "      \n",
       "      <progress value='1206' max='1206' style='width:300px; height:20px; vertical-align: middle;'></progress>\n",
       "      [1206/1206 03:07, Epoch 1/1]\n",
       "    </div>\n",
       "    <table border=\"1\" class=\"dataframe\">\n",
       "  <thead>\n",
       " <tr style=\"text-align: left;\">\n",
       "      <th>Epoch</th>\n",
       "      <th>Training Loss</th>\n",
       "      <th>Validation Loss</th>\n",
       "    </tr>\n",
       "  </thead>\n",
       "  <tbody>\n",
       "    <tr>\n",
       "      <td>1</td>\n",
       "      <td>5.443000</td>\n",
       "      <td>5.422534</td>\n",
       "    </tr>\n",
       "  </tbody>\n",
       "</table><p>"
      ],
      "text/plain": [
       "<IPython.core.display.HTML object>"
      ]
     },
     "metadata": {},
     "output_type": "display_data"
    },
    {
     "data": {
      "text/html": [
       "\n",
       "    <div>\n",
       "      \n",
       "      <progress value='149' max='149' style='width:300px; height:20px; vertical-align: middle;'></progress>\n",
       "      [149/149 00:09]\n",
       "    </div>\n",
       "    "
      ],
      "text/plain": [
       "<IPython.core.display.HTML object>"
      ]
     },
     "metadata": {},
     "output_type": "display_data"
    }
   ],
   "source": [
    "learning_rates = [5e-5, 3e-5, 1e-5]\n",
    "ia3_results = {}\n",
    "for lr in learning_rates:\n",
    "    print(f\"\\n--- (IA)3 Sweep: Testing LR: {lr} ---\")\n",
    "    model_sweep_ia3 = AutoModelForQuestionAnswering.from_pretrained(\"distilbert-base-uncased\")\n",
    "    ia3_config_sweep = IA3Config(\n",
    "        task_type=TaskType.QUESTION_ANS,\n",
    "        target_modules=[\"q_lin\", \"k_lin\", \"v_lin\", \"out_lin\", \"lin1\", \"lin2\"],\n",
    "        feedforward_modules=[\"lin1\", \"lin2\"],\n",
    "    )\n",
    "    ia3_model_sweep = get_peft_model(model_sweep_ia3, ia3_config_sweep).to(device)\n",
    "    sweep_args_ia3 = TrainingArguments(output_dir=f\"./sweep_ia3_lr_{lr}\",\n",
    "                                        eval_strategy=\"epoch\",\n",
    "                                        learning_rate=lr,\n",
    "                                        per_device_train_batch_size=8,\n",
    "                                        num_train_epochs=1,\n",
    "                                        weight_decay=0.01,\n",
    "                                       report_to=\"none\")\n",
    "\n",
    "    sweep_trainer_ia3 = Trainer(model=ia3_model_sweep,\n",
    "                                args=sweep_args_ia3,\n",
    "                                train_dataset=sweep_train_dataset,\n",
    "                                eval_dataset=sweep_eval_dataset)\n",
    "\n",
    "    sweep_trainer_ia3.train()\n",
    "    eval_metrics_ia3 = sweep_trainer_ia3.evaluate()\n",
    "    ia3_results[lr] = eval_metrics_ia3[\"eval_loss\"]\n",
    "\n",
    "best_lr_ia3 = min(ia3_results, key=ia3_results.get)"
   ]
  },
  {
   "cell_type": "markdown",
   "metadata": {
    "id": "GulcdumtkBLU"
   },
   "source": [
    "## Final training on two finetuned model.\n",
    "Following the hyperparameter sweep, the LoRA and ((IA)3)models were trained on the full dataset using their respective optimal learning rates. Throughout this final training process, the training and validation loss curves were generated to monitor convergence, diagnose stability, and visually analyze the learning dynamics of each parameter-efficient fine-tuning method."
   ]
  },
  {
   "cell_type": "code",
   "execution_count": 12,
   "metadata": {
    "id": "3o395hK4AbVk"
   },
   "outputs": [],
   "source": [
    "def plot_loss_curves(log_history, save_path, title):\n",
    "    \"\"\"\n",
    "    Plots training and validation loss curves from the Trainer's log history.\n",
    "    \"\"\"\n",
    "    # Separate training and validation logs\n",
    "    train_logs = [log for log in log_history if 'loss' in log]\n",
    "    val_logs = [log for log in log_history if 'eval_loss' in log]\n",
    "\n",
    "    # Extract epochs and loss values\n",
    "    train_epochs = [log['epoch'] for log in train_logs]\n",
    "    train_losses = [log['loss'] for log in train_logs]\n",
    "    val_epochs = [log['epoch'] for log in val_logs]\n",
    "    val_losses = [log['eval_loss'] for log in val_logs]\n",
    "\n",
    "    # Create the plot\n",
    "    plt.figure(figsize=(10, 6))\n",
    "    plt.plot(train_epochs, train_losses, label='Training Loss')\n",
    "    plt.plot(val_epochs, val_losses, label='Validation Loss', marker='o')\n",
    "\n",
    "    # Add titles and labels\n",
    "    plt.title(title)\n",
    "    plt.xlabel('Epoch')\n",
    "    plt.ylabel('Loss')\n",
    "    plt.legend()\n",
    "    plt.grid(True)\n",
    "\n",
    "    # Save the plot to a file\n",
    "    plt.savefig(save_path)\n",
    "    print(f\"Plot saved to {save_path}\")\n",
    "\n",
    "    # Show the plot\n",
    "    plt.show()"
   ]
  },
  {
   "cell_type": "code",
   "execution_count": 18,
   "metadata": {
    "colab": {
     "base_uri": "https://localhost:8080/",
     "height": 400
    },
    "id": "ZgL518YxDv7P",
    "outputId": "3fdfb067-68cb-45ee-9a2e-d6ba85e35bd6"
   },
   "outputs": [
    {
     "name": "stderr",
     "output_type": "stream",
     "text": [
      "Some weights of DistilBertForQuestionAnswering were not initialized from the model checkpoint at distilbert-base-uncased and are newly initialized: ['qa_outputs.bias', 'qa_outputs.weight']\n",
      "You should probably TRAIN this model on a down-stream task to be able to use it for predictions and inference.\n"
     ]
    },
    {
     "name": "stdout",
     "output_type": "stream",
     "text": [
      "trainable params: 296,450 || all params: 66,660,868 || trainable%: 0.4447\n"
     ]
    },
    {
     "data": {
      "text/html": [
       "\n",
       "    <div>\n",
       "      \n",
       "      <progress value='26845' max='36183' style='width:300px; height:20px; vertical-align: middle;'></progress>\n",
       "      [26845/36183 1:06:50 < 23:15, 6.69 it/s, Epoch 2.23/3]\n",
       "    </div>\n",
       "    <table border=\"1\" class=\"dataframe\">\n",
       "  <thead>\n",
       " <tr style=\"text-align: left;\">\n",
       "      <th>Epoch</th>\n",
       "      <th>Training Loss</th>\n",
       "      <th>Validation Loss</th>\n",
       "    </tr>\n",
       "  </thead>\n",
       "  <tbody>\n",
       "    <tr>\n",
       "      <td>1</td>\n",
       "      <td>2.009000</td>\n",
       "      <td>1.774911</td>\n",
       "    </tr>\n",
       "    <tr>\n",
       "      <td>2</td>\n",
       "      <td>1.671500</td>\n",
       "      <td>1.524914</td>\n",
       "    </tr>\n",
       "  </tbody>\n",
       "</table><p>"
      ],
      "text/plain": [
       "<IPython.core.display.HTML object>"
      ]
     },
     "metadata": {},
     "output_type": "display_data"
    },
    {
     "data": {
      "text/html": [
       "\n",
       "    <div>\n",
       "      \n",
       "      <progress value='36183' max='36183' style='width:300px; height:20px; vertical-align: middle;'></progress>\n",
       "      [36183/36183 1:30:35, Epoch 3/3]\n",
       "    </div>\n",
       "    <table border=\"1\" class=\"dataframe\">\n",
       "  <thead>\n",
       " <tr style=\"text-align: left;\">\n",
       "      <th>Epoch</th>\n",
       "      <th>Training Loss</th>\n",
       "      <th>Validation Loss</th>\n",
       "    </tr>\n",
       "  </thead>\n",
       "  <tbody>\n",
       "    <tr>\n",
       "      <td>1</td>\n",
       "      <td>2.009000</td>\n",
       "      <td>1.774911</td>\n",
       "    </tr>\n",
       "    <tr>\n",
       "      <td>2</td>\n",
       "      <td>1.671500</td>\n",
       "      <td>1.524914</td>\n",
       "    </tr>\n",
       "    <tr>\n",
       "      <td>3</td>\n",
       "      <td>1.569800</td>\n",
       "      <td>1.470210</td>\n",
       "    </tr>\n",
       "  </tbody>\n",
       "</table><p>"
      ],
      "text/plain": [
       "<IPython.core.display.HTML object>"
      ]
     },
     "metadata": {},
     "output_type": "display_data"
    },
    {
     "name": "stdout",
     "output_type": "stream",
     "text": [
      "\n",
      "Total Training Time: 1.51 hours\n"
     ]
    }
   ],
   "source": [
    "final_model = AutoModelForQuestionAnswering.from_pretrained(\"distilbert-base-uncased\")\n",
    "final_lora_config = LoraConfig(r=16, lora_alpha=32, lora_dropout=0.1, task_type=TaskType.QUESTION_ANS, target_modules=[\"q_lin\", \"v_lin\"])\n",
    "final_lora_model = get_peft_model(final_model, final_lora_config).to(device)\n",
    "final_lora_model.print_trainable_parameters()\n",
    "\n",
    "final_training_args = TrainingArguments(\n",
    "    output_dir=\"./results_lora_final\",\n",
    "    eval_strategy=\"epoch\",\n",
    "    learning_rate=best_lr,\n",
    "    per_device_train_batch_size=8,\n",
    "    per_device_eval_batch_size=8,\n",
    "    num_train_epochs=3,\n",
    "    weight_decay=0.01,\n",
    "    save_strategy=\"epoch\",\n",
    "    logging_steps=500,\n",
    "    report_to=\"none\"\n",
    ")\n",
    "\n",
    "final_trainer_lora = Trainer(\n",
    "    model=final_lora_model,\n",
    "    args=final_training_args,\n",
    "    train_dataset=train_dataset,\n",
    "    eval_dataset=validation_dataset,\n",
    ")\n",
    "\n",
    "# Start final training\n",
    "train_start_time = time.time()\n",
    "train_result = final_trainer_lora.train()\n",
    "train_end_time = time.time()\n",
    "\n",
    "total_train_time_seconds = train_end_time - train_start_time\n",
    "print(f\"\\nTotal Training Time: {total_train_time_seconds / 3600:.2f} hours\")\n",
    "\n",
    "#Colab runtime got disconnected which explains the two tables (ignore the first table)"
   ]
  },
  {
   "cell_type": "code",
   "execution_count": 19,
   "metadata": {
    "colab": {
     "base_uri": "https://localhost:8080/",
     "height": 582
    },
    "id": "K5KBpuw-Tki-",
    "outputId": "04037201-45ac-4280-e138-b59e9ccf0261"
   },
   "outputs": [
    {
     "name": "stdout",
     "output_type": "stream",
     "text": [
      "Plot saved to LoRA_Fine_Tuning_Loss_3_Epochs.png\n"
     ]
    },
    {
     "data": {
      "image/png": "[encoded data removed]",
      "text/plain": [
       "<Figure size 1000x600 with 1 Axes>"
      ]
     },
     "metadata": {},
     "output_type": "display_data"
    }
   ],
   "source": [
    "# Plot the loss curves\n",
    "plot_loss_curves(\n",
    "    final_trainer_lora.state.log_history,\n",
    "    \"LoRA_Fine_Tuning_Loss_3_Epochs.png\",\n",
    "    \"LoRA Training/Validation Loss (3 Epochs)\"\n",
    ")"
   ]
  },
  {
   "cell_type": "code",
   "execution_count": 22,
   "metadata": {
    "colab": {
     "base_uri": "https://localhost:8080/",
     "height": 297
    },
    "id": "SGbOZ8HZYSeO",
    "outputId": "2f6c961c-812d-45ca-a71d-38ec3d87efa0"
   },
   "outputs": [
    {
     "name": "stderr",
     "output_type": "stream",
     "text": [
      "Some weights of DistilBertForQuestionAnswering were not initialized from the model checkpoint at distilbert-base-uncased and are newly initialized: ['qa_outputs.bias', 'qa_outputs.weight']\n",
      "You should probably TRAIN this model on a down-stream task to be able to use it for predictions and inference.\n"
     ]
    },
    {
     "name": "stdout",
     "output_type": "stream",
     "text": [
      "Trainable parameters for final (IA)3 model:\n",
      "trainable params: 43,010 || all params: 66,407,428 || trainable%: 0.0648\n"
     ]
    },
    {
     "data": {
      "text/html": [
       "\n",
       "    <div>\n",
       "      \n",
       "      <progress value='36183' max='36183' style='width:300px; height:20px; vertical-align: middle;'></progress>\n",
       "      [36183/36183 1:32:23, Epoch 3/3]\n",
       "    </div>\n",
       "    <table border=\"1\" class=\"dataframe\">\n",
       "  <thead>\n",
       " <tr style=\"text-align: left;\">\n",
       "      <th>Epoch</th>\n",
       "      <th>Training Loss</th>\n",
       "      <th>Validation Loss</th>\n",
       "    </tr>\n",
       "  </thead>\n",
       "  <tbody>\n",
       "    <tr>\n",
       "      <td>1</td>\n",
       "      <td>3.284600</td>\n",
       "      <td>3.165853</td>\n",
       "    </tr>\n",
       "    <tr>\n",
       "      <td>2</td>\n",
       "      <td>2.841400</td>\n",
       "      <td>2.710039</td>\n",
       "    </tr>\n",
       "    <tr>\n",
       "      <td>3</td>\n",
       "      <td>2.744700</td>\n",
       "      <td>2.609799</td>\n",
       "    </tr>\n",
       "  </tbody>\n",
       "</table><p>"
      ],
      "text/plain": [
       "<IPython.core.display.HTML object>"
      ]
     },
     "metadata": {},
     "output_type": "display_data"
    },
    {
     "name": "stdout",
     "output_type": "stream",
     "text": [
      "\n",
      "Total (IA)3 Training Time: 1.54 hours\n"
     ]
    }
   ],
   "source": [
    "final_model_ia3 = AutoModelForQuestionAnswering.from_pretrained(\"distilbert-base-uncased\")\n",
    "\n",
    "final_ia3_config = IA3Config(\n",
    "    task_type=TaskType.QUESTION_ANS,\n",
    "    target_modules=[\"q_lin\", \"k_lin\", \"v_lin\", \"out_lin\", \"lin1\", \"lin2\"],\n",
    "    feedforward_modules=[\"lin1\", \"lin2\"],\n",
    ")\n",
    "final_ia3_model = get_peft_model(final_model_ia3, final_ia3_config).to(device)\n",
    "\n",
    "print(\"Trainable parameters for final (IA)3 model:\")\n",
    "final_ia3_model.print_trainable_parameters()\n",
    "\n",
    "final_training_args_ia3 = TrainingArguments(\n",
    "    output_dir=\"./results_ia3_final\", eval_strategy=\"epoch\", learning_rate=best_lr_ia3,\n",
    "    per_device_train_batch_size=8, per_device_eval_batch_size=8, num_train_epochs=3,\n",
    "    weight_decay=0.01, save_strategy=\"epoch\", logging_steps=500, report_to=\"none\"\n",
    ")\n",
    "final_trainer_ia3 = Trainer(model=final_ia3_model,\n",
    "                            args=final_training_args_ia3,\n",
    "                            train_dataset=train_dataset,\n",
    "                            eval_dataset=validation_dataset,\n",
    "                            )\n",
    "\n",
    "\n",
    "train_start_time_ia3 = time.time()\n",
    "train_result_ia3 = final_trainer_ia3.train()\n",
    "train_end_time_ia3 = time.time()\n",
    "total_train_time_seconds_ia3 = train_end_time_ia3 - train_start_time_ia3\n",
    "print(f\"\\nTotal (IA)3 Training Time: {total_train_time_seconds_ia3 / 3600:.2f} hours\")"
   ]
  },
  {
   "cell_type": "code",
   "execution_count": 23,
   "metadata": {
    "colab": {
     "base_uri": "https://localhost:8080/",
     "height": 582
    },
    "id": "pjW799zbkqTN",
    "outputId": "7f07d99b-2fb2-413b-93de-cb6e9be9ffcc"
   },
   "outputs": [
    {
     "name": "stdout",
     "output_type": "stream",
     "text": [
      "Plot saved to IA3_Fine_Tuning_Loss_3_Epochs.png\n"
     ]
    },
    {
     "data": {
      "image/png": "[encoded data removed]",
      "text/plain": [
       "<Figure size 1000x600 with 1 Axes>"
      ]
     },
     "metadata": {},
     "output_type": "display_data"
    }
   ],
   "source": [
    "plot_loss_curves(\n",
    "    final_trainer_ia3.state.log_history,\n",
    "    \"IA3_Fine_Tuning_Loss_3_Epochs.png\",\n",
    "    \"IA3 Training/Validation Loss (3 Epochs)\"\n",
    ")"
   ]
  },
  {
   "cell_type": "markdown",
   "metadata": {
    "id": "VjMB_udwkvta"
   },
   "source": [
    "## Evaluation on two finetuned model.\n",
    "The performance of the final LoRA and ((IA)3) fine-tuned models was assessed through a comprehensive evaluation process. Standard quantitative metrics for this Question Answering task, namely the F1-Score and Exact Match (EM) score, were calculated on the test dataset. To supplement these metrics and probe the models' practical reasoning abilities, a qualitative analysis was also conducted using a curated set of custom examples designed to test performance on challenging or nuanced queries.\n"
   ]
  },
  {
   "cell_type": "code",
   "execution_count": 24,
   "metadata": {
    "id": "P5xN31ZxTpfH"
   },
   "outputs": [],
   "source": [
    "def postprocess_qa_predictions(examples, features, raw_predictions, n_best_size=20, max_answer_length=30):\n",
    "    all_start_logits, all_end_logits = raw_predictions\n",
    "    example_id_to_index = {k: i for i, k in enumerate(examples[\"id\"])}\n",
    "    features_per_example = collections.defaultdict(list)\n",
    "    for i, feature in enumerate(features):\n",
    "        features_per_example[example_id_to_index[feature[\"example_id\"]]].append(i)\n",
    "\n",
    "    predictions = collections.OrderedDict()\n",
    "\n",
    "    print(\"Post-processing predictions...\")\n",
    "    for example_index, example in enumerate(tqdm(examples)):\n",
    "        feature_indices = features_per_example[example_index]\n",
    "        min_null_score = None\n",
    "        valid_answers = []\n",
    "        context = example[\"context\"]\n",
    "        for feature_index in feature_indices:\n",
    "            start_logits = all_start_logits[feature_index]\n",
    "            end_logits = all_end_logits[feature_index]\n",
    "            offset_mapping = features[feature_index][\"offset_mapping\"]\n",
    "            cls_index = features[feature_index][\"input_ids\"].index(tokenizer.cls_token_id)\n",
    "            feature_null_score = start_logits[cls_index] + end_logits[cls_index]\n",
    "            if min_null_score is None or min_null_score < feature_null_score:\n",
    "                min_null_score = feature_null_score\n",
    "\n",
    "            start_indexes = np.argsort(start_logits)[-1 : -n_best_size - 1 : -1].tolist()\n",
    "            end_indexes = np.argsort(end_logits)[-1 : -n_best_size - 1 : -1].tolist()\n",
    "            for start_index in start_indexes:\n",
    "                for end_index in end_indexes:\n",
    "                    if (\n",
    "                        start_index >= len(offset_mapping)\n",
    "                        or end_index >= len(offset_mapping)\n",
    "                        or offset_mapping[start_index] is None\n",
    "                        or offset_mapping[end_index] is None\n",
    "                    ):\n",
    "                        continue\n",
    "                    if end_index < start_index or end_index - start_index + 1 > max_answer_length:\n",
    "                        continue\n",
    "\n",
    "                    start_char = offset_mapping[start_index][0]\n",
    "                    end_char = offset_mapping[end_index][1]\n",
    "                    valid_answers.append(\n",
    "                        {\"score\": start_logits[start_index] + end_logits[end_index], \"text\": context[start_char:end_char]}\n",
    "                    )\n",
    "\n",
    "        if len(valid_answers) > 0:\n",
    "            best_answer = sorted(valid_answers, key=lambda x: x[\"score\"], reverse=True)[0]\n",
    "        else:\n",
    "            best_answer = {\"text\": \"\", \"score\": 0.0}\n",
    "\n",
    "        predictions[example[\"id\"]] = best_answer[\"text\"]\n",
    "\n",
    "    formatted_predictions = [{\"id\": k, \"prediction_text\": v} for k, v in predictions.items()]\n",
    "    references = [{\"id\": ex[\"id\"], \"answers\": ex[\"answers\"]} for ex in examples]\n",
    "    return formatted_predictions, references"
   ]
  },
  {
   "cell_type": "code",
   "execution_count": 25,
   "metadata": {
    "colab": {
     "base_uri": "https://localhost:8080/",
     "height": 238,
     "referenced_widgets": [
      "33029fc8b70a49c7a32540cdf0a0f941",
      "0ec83399cf6147d0997b79200319f833",
      "de25a85d029047c18e068d94465e28b7",
      "b0cc58a61c2d4fe2964416a2ccca6452",
      "dc22f9be6ff049c99ec685a8ff5b1ce5",
      "bd269529d97642cc910d9119c51c503f",
      "bab4b6c74f3a48419ef2c10639a2f02e",
      "7a1d67e7eee1485fbece4da7b5d29571",
      "fabb9710c27244959412498c48e366f6",
      "6927fb9a1e0d42f7b4e098cb2bac9184",
      "248d2ef644a24f5087955226bc4d5f87",
      "fc60f5643c9a4981a4fa1dc2decc066c",
      "e36f32b276584cd49915072714b52a1b",
      "0a44c6ba2df34e17866ac28db32c8685",
      "fdfa659752334aeb8dab9d5d5c2b0b21",
      "aedda610af2346c286994e59d54a28c2",
      "b4233d3f84934ec29badbca94d597847",
      "7ba40ca03a704e46b9332d3f88856fe4",
      "fe427b571e85493f83152c6543141194",
      "2cd4c55a9dbc414b8d2514a3856f28c0",
      "1235f93dda7648c0aa57a66954fffb5a",
      "7c75cba548264afd9eee0b7ee18a20b1",
      "bf8b9b8a8bad44f9adc482d61c8d482e",
      "a801241b02134467aba362ec9158c58d",
      "16bc1639f56d49bb91344a5306bc20eb",
      "4b0a63d7b20546509c15d72f6aa95125",
      "219aba3091cf464db4ed2d0b9c20064e",
      "c37f9dfd095e4693a277727255a9f625",
      "b66044c95b804143a3b3757f8713b881",
      "416ac9f69b7d4ab585fb09610293f9d2",
      "5268d5a083d94dd594723f703a165b99",
      "6f83bcef071b46618fec11cdd7e500f7",
      "f531f6a8d30b47faae9fe52739946cba"
     ]
    },
    "id": "0Pjddoh5Tt9U",
    "outputId": "c4ebcbb0-803b-4e1d-89eb-40118951cda8"
   },
   "outputs": [
    {
     "name": "stdout",
     "output_type": "stream",
     "text": [
      "\n",
      "--- Calculating Final EM and F1 Scores for LoRA Model ---\n"
     ]
    },
    {
     "data": {
      "application/vnd.jupyter.widget-view+json": {
       "model_id": "33029fc8b70a49c7a32540cdf0a0f941",
       "version_major": 2,
       "version_minor": 0
      },
      "text/plain": [
       "Downloading builder script: 0.00B [00:00, ?B/s]"
      ]
     },
     "metadata": {},
     "output_type": "display_data"
    },
    {
     "data": {
      "application/vnd.jupyter.widget-view+json": {
       "model_id": "fc60f5643c9a4981a4fa1dc2decc066c",
       "version_major": 2,
       "version_minor": 0
      },
      "text/plain": [
       "Downloading extra modules: 0.00B [00:00, ?B/s]"
      ]
     },
     "metadata": {},
     "output_type": "display_data"
    },
    {
     "data": {
      "text/html": [],
      "text/plain": [
       "<IPython.core.display.HTML object>"
      ]
     },
     "metadata": {},
     "output_type": "display_data"
    },
    {
     "name": "stdout",
     "output_type": "stream",
     "text": [
      "Post-processing predictions...\n"
     ]
    },
    {
     "data": {
      "application/vnd.jupyter.widget-view+json": {
       "model_id": "bf8b9b8a8bad44f9adc482d61c8d482e",
       "version_major": 2,
       "version_minor": 0
      },
      "text/plain": [
       "  0%|          | 0/10570 [00:00<?, ?it/s]"
      ]
     },
     "metadata": {},
     "output_type": "display_data"
    },
    {
     "name": "stdout",
     "output_type": "stream",
     "text": [
      "\n",
      "LoRA Model Final Evaluation Report:\n",
      "  Exact Match (EM): 62.3841\n",
      "  F1 Score: 72.8802\n"
     ]
    }
   ],
   "source": [
    "print(\"\\n--- Calculating Final EM and F1 Scores for LoRA Model ---\")\n",
    "\n",
    "squad_metric = evaluate.load(\"squad\")\n",
    "\n",
    "raw_predictions = final_trainer_lora.predict(validation_dataset)\n",
    "\n",
    "final_predictions, final_references = postprocess_qa_predictions(\n",
    "    dataset[\"validation\"],\n",
    "    validation_dataset,\n",
    "    raw_predictions.predictions\n",
    ")\n",
    "\n",
    "metrics = squad_metric.compute(predictions=final_predictions, references=final_references)\n",
    "\n",
    "print(\"\\nLoRA Model Final Evaluation Report:\")\n",
    "print(f\"  Exact Match (EM): {metrics['exact_match']:.4f}\")\n",
    "print(f\"  F1 Score: {metrics['f1']:.4f}\")"
   ]
  },
  {
   "cell_type": "code",
   "execution_count": 26,
   "metadata": {
    "colab": {
     "base_uri": "https://localhost:8080/",
     "height": 174,
     "referenced_widgets": [
      "89c38b90d534431aa851526b73fd0177",
      "1681d2970d4149bb8052d2453fa4dbe1",
      "267c2293ee7c41cdb4e24e3cc8f57d64",
      "6f75b989426c46b8b3da1604c5569cea",
      "0d9c7dfef9a54a83b64ec84afe34c07d",
      "6aa246ff6f674a828b3e8694d3ccd1a4",
      "8a61ed6dcacb4df9a634275736cb6ef1",
      "4335421e81dd499db0a34de7f7a3a496",
      "56f6c6ecdd6740b1bf7cfc2041613695",
      "2cb45ed5d86e42edb4daf4c12001243c",
      "7f68ccd753cb4f7794eedb5f5b1050dd"
     ]
    },
    "id": "JVYlftfseRDp",
    "outputId": "bac3c6c0-6662-4b44-ee8c-7b58f2a6a591"
   },
   "outputs": [
    {
     "name": "stdout",
     "output_type": "stream",
     "text": [
      "\n",
      "--- Calculating Final EM and F1 Scores for (IA)3 Model ---\n"
     ]
    },
    {
     "data": {
      "text/html": [],
      "text/plain": [
       "<IPython.core.display.HTML object>"
      ]
     },
     "metadata": {},
     "output_type": "display_data"
    },
    {
     "name": "stdout",
     "output_type": "stream",
     "text": [
      "Post-processing predictions...\n"
     ]
    },
    {
     "data": {
      "application/vnd.jupyter.widget-view+json": {
       "model_id": "89c38b90d534431aa851526b73fd0177",
       "version_major": 2,
       "version_minor": 0
      },
      "text/plain": [
       "  0%|          | 0/10570 [00:00<?, ?it/s]"
      ]
     },
     "metadata": {},
     "output_type": "display_data"
    },
    {
     "name": "stdout",
     "output_type": "stream",
     "text": [
      "\n",
      "(IA)3 Model Final Evaluation Report:\n",
      "  Exact Match (EM): 32.3652\n",
      "  F1 Score: 41.8148\n"
     ]
    }
   ],
   "source": [
    "print(\"\\n--- Calculating Final EM and F1 Scores for (IA)3 Model ---\")\n",
    "\n",
    "squad_metric = evaluate.load(\"squad\")\n",
    "\n",
    "raw_predictions_ia3 = final_trainer_ia3.predict(validation_dataset)\n",
    "final_predictions_ia3, final_references_ia3 = postprocess_qa_predictions(\n",
    "    dataset[\"validation\"],\n",
    "    validation_dataset,\n",
    "    raw_predictions_ia3.predictions\n",
    ")\n",
    "\n",
    "metrics_ia3 = squad_metric.compute(predictions=final_predictions_ia3, references=final_references_ia3)\n",
    "\n",
    "print(\"\\n(IA)3 Model Final Evaluation Report:\")\n",
    "print(f\"  Exact Match (EM): {metrics_ia3['exact_match']:.4f}\")\n",
    "print(f\"  F1 Score: {metrics_ia3['f1']:.4f}\")"
   ]
  },
  {
   "cell_type": "code",
   "execution_count": 27,
   "metadata": {
    "id": "zq_1etyGTyau"
   },
   "outputs": [],
   "source": [
    "def predict_custom(context, query, model, tokenizer):\n",
    "\n",
    "    model.eval()\n",
    "    cpu_device = torch.device(\"cpu\")\n",
    "    model.to(cpu_device)\n",
    "    inputs = tokenizer.encode_plus(query, context, return_tensors='pt').to(cpu_device)\n",
    "    with torch.no_grad():\n",
    "        outputs = model(**inputs)\n",
    "        start_logits = outputs.start_logits\n",
    "        end_logits = outputs.end_logits\n",
    "    answer_start = torch.argmax(start_logits)\n",
    "    answer_end = torch.argmax(end_logits) + 1\n",
    "    answer = tokenizer.convert_tokens_to_string(\n",
    "        tokenizer.convert_ids_to_tokens(inputs['input_ids'][0][answer_start:answer_end])\n",
    "    )\n",
    "    model.to(device)\n",
    "    return answer\n",
    "\n",
    "def normalize_text(s):\n",
    "    import string, re\n",
    "    def remove_articles(text): return re.sub(r\"\\b(a|an|the)\\b\", \" \", text)\n",
    "    def white_space_fix(text): return \" \".join(text.split())\n",
    "    def remove_punc(text): return \"\".join(ch for ch in text if ch not in exclude)\n",
    "    exclude = set(string.punctuation)\n",
    "    return white_space_fix(remove_articles(remove_punc(s.lower())))\n",
    "\n",
    "def compute_exact_match(prediction, truth):\n",
    "    return int(normalize_text(prediction) == normalize_text(truth))\n",
    "\n",
    "def compute_f1(prediction, truth):\n",
    "    pred_tokens = normalize_text(prediction).split()\n",
    "    truth_tokens = normalize_text(truth).split()\n",
    "    if len(pred_tokens) == 0 or len(truth_tokens) == 0:\n",
    "        return int(pred_tokens == truth_tokens)\n",
    "    common_tokens = set(pred_tokens) & set(truth_tokens)\n",
    "    if len(common_tokens) == 0: return 0\n",
    "    prec = len(common_tokens) / len(pred_tokens)\n",
    "    rec = len(common_tokens) / len(truth_tokens)\n",
    "    return 2 * (prec * rec) / (prec + rec)\n",
    "\n",
    "custom_examples = [\n",
    "    {\n",
    "        \"context\": \"Hi! My name is Rachel and I am 21 years old. I am a NUS student and I am currently doing a DSA assignment.\",\n",
    "        \"question\": \"What is Rachel doing?\",\n",
    "        \"answer\": \"A DSA assignment\"\n",
    "    },\n",
    "    {\n",
    "        \"context\": \"The Eiffel Tower is a wrought-iron lattice tower on the Champ de Mars in Paris, France. It is named after the engineer Gustave Eiffel, whose company designed and built the tower.\",\n",
    "        \"question\": \"Who designed the Eiffel Tower?\",\n",
    "        \"answer\": \"Gustave Eiffel\"\n",
    "    },\n",
    "\n",
    "    {\n",
    "        \"context\": \"Photosynthesis is a process used by plants, algae, and certain bacteria to convert light energy into chemical energy. Through this process, they can later release energy to fuel the organisms' activities. This chemical energy is stored in carbohydrate molecules, such as sugars, which are synthesized from carbon dioxide and water. The process is responsible for producing and maintaining the oxygen content of the Earth's atmosphere. The green pigment responsible for capturing light is called chlorophyll.\",\n",
    "        \"question\": \"What is the name of the green pigment that captures light?\",\n",
    "        \"answer\": \"chlorophyll\"\n",
    "    },\n",
    "\n",
    "    {\n",
    "        \"context\": \"n-gram is n consecutive words. There are many forms of n-grams such as Unigram, Bigram, Trigram and Four-grams\",\n",
    "        \"question\": \"What are some forms of n-gramst?\",\n",
    "        \"answer\": \"Unigram, Bigram, Trigram, Four-grams\"\n",
    "    },\n",
    "\n",
    "    {\n",
    "        \"context\": \"There are two limitations of fine-tuning. One, it does not address open-ended taks since open-ended tasks have no correct answer. Second, standard language modelling treats all token-level mistakes the same although some mistakes matter much more than others.\",\n",
    "        \"question\": \"How does fine-tuning deal with mistakes?\",\n",
    "        \"answer\": \"Fine-tuning treats all token-level mistakes equally. \"\n",
    "    },\n",
    "]"
   ]
  },
  {
   "cell_type": "code",
   "execution_count": 28,
   "metadata": {
    "colab": {
     "base_uri": "https://localhost:8080/"
    },
    "id": "r7EAFRkteWex",
    "outputId": "cf4394b6-5929-448c-a45d-06d206508afa"
   },
   "outputs": [
    {
     "name": "stdout",
     "output_type": "stream",
     "text": [
      "--- Example 1 ---\n",
      "Question: What is Rachel doing?\n",
      "Prediction: 'a dsa assignment'\n",
      "True Answer: 'A DSA assignment'\n",
      "EM Score: 1\n",
      "F1 Score: 1.0000\n",
      "\n",
      "\n",
      "--- Example 2 ---\n",
      "Question: Who designed the Eiffel Tower?\n",
      "Prediction: 'gustave eiffel'\n",
      "True Answer: 'Gustave Eiffel'\n",
      "EM Score: 1\n",
      "F1 Score: 1.0000\n",
      "\n",
      "\n",
      "--- Example 3 ---\n",
      "Question: What is the name of the green pigment that captures light?\n",
      "Prediction: 'chlorophyll'\n",
      "True Answer: 'chlorophyll'\n",
      "EM Score: 1\n",
      "F1 Score: 1.0000\n",
      "\n",
      "\n",
      "--- Example 4 ---\n",
      "Question: What are some forms of n-gramst?\n",
      "Prediction: 'unigram, bigram, trigram'\n",
      "True Answer: 'Unigram, Bigram, Trigram, Four-grams'\n",
      "EM Score: 0\n",
      "F1 Score: 0.8571\n",
      "\n",
      "\n",
      "--- Example 5 ---\n",
      "Question: How does fine-tuning deal with mistakes?\n",
      "Prediction: 'second, standard language modelling'\n",
      "True Answer: 'Fine-tuning treats all token-level mistakes equally. '\n",
      "EM Score: 0\n",
      "F1 Score: 0.0000\n",
      "\n",
      "\n",
      "Total Examples: 5\n",
      "Average Exact Match (EM): 0.6000\n",
      "Average F1 Score: 0.7714\n"
     ]
    }
   ],
   "source": [
    "all_em_scores_lora = []\n",
    "all_f1_scores_lora = []\n",
    "\n",
    "for i, example in enumerate(custom_examples):\n",
    "    print(f\"--- Example {i+1} ---\")\n",
    "    context = example[\"context\"]\n",
    "    query = example[\"question\"]\n",
    "    true_answer = example[\"answer\"]\n",
    "\n",
    "    # Get the model's prediction\n",
    "    prediction = predict_custom(context, query, final_lora_model, tokenizer)\n",
    "\n",
    "    # Calculate scores for this example\n",
    "    em_score = compute_exact_match(prediction, true_answer)\n",
    "    f1_score = compute_f1(prediction, true_answer)\n",
    "\n",
    "    # Append scores to our lists\n",
    "    all_em_scores_lora.append(em_score)\n",
    "    all_f1_scores_lora.append(f1_score)\n",
    "\n",
    "    print(f\"Question: {query}\")\n",
    "    print(f\"Prediction: '{prediction}'\")\n",
    "    print(f\"True Answer: '{true_answer}'\")\n",
    "    print(f\"EM Score: {em_score}\")\n",
    "    print(f\"F1 Score: {f1_score:.4f}\")\n",
    "    print('\\n')\n",
    "\n",
    "average_em_lora = sum(all_em_scores_lora) / len(all_em_scores_lora)\n",
    "average_f1_lora = sum(all_f1_scores_lora) / len(all_f1_scores_lora)\n",
    "\n",
    "print(f\"Total Examples: {len(custom_examples)}\")\n",
    "print(f\"Average Exact Match (EM): {average_em_lora:.4f}\")\n",
    "print(f\"Average F1 Score: {average_f1_lora:.4f}\")"
   ]
  },
  {
   "cell_type": "code",
   "execution_count": 29,
   "metadata": {
    "colab": {
     "base_uri": "https://localhost:8080/"
    },
    "id": "eT20fWV5eYEl",
    "outputId": "156d6a1a-85e9-40f7-f429-db014efd835e"
   },
   "outputs": [
    {
     "name": "stdout",
     "output_type": "stream",
     "text": [
      "--- Example 1 ---\n",
      "Question: What is Rachel doing?\n",
      "Prediction: '[CLS]'\n",
      "True Answer: 'A DSA assignment'\n",
      "EM Score: 0\n",
      "F1 Score: 0.0000\n",
      "\n",
      "\n",
      "--- Example 2 ---\n",
      "Question: Who designed the Eiffel Tower?\n",
      "Prediction: 'gustave eiffel, whose company'\n",
      "True Answer: 'Gustave Eiffel'\n",
      "EM Score: 0\n",
      "F1 Score: 0.6667\n",
      "\n",
      "\n",
      "--- Example 3 ---\n",
      "Question: What is the name of the green pigment that captures light?\n",
      "Prediction: 'chlorophyll'\n",
      "True Answer: 'chlorophyll'\n",
      "EM Score: 1\n",
      "F1 Score: 1.0000\n",
      "\n",
      "\n",
      "--- Example 4 ---\n",
      "Question: What are some forms of n-gramst?\n",
      "Prediction: 'unigram, bigram, trigram'\n",
      "True Answer: 'Unigram, Bigram, Trigram, Four-grams'\n",
      "EM Score: 0\n",
      "F1 Score: 0.8571\n",
      "\n",
      "\n",
      "--- Example 5 ---\n",
      "Question: How does fine-tuning deal with mistakes?\n",
      "Prediction: ''\n",
      "True Answer: 'Fine-tuning treats all token-level mistakes equally. '\n",
      "EM Score: 0\n",
      "F1 Score: 0.0000\n",
      "\n",
      "\n",
      "Total Examples: 5\n",
      "Average Exact Match (EM) for (IA)3: 0.2000\n",
      "Average F1 Score for (IA)3: 0.5048\n"
     ]
    }
   ],
   "source": [
    "all_em_scores_ia3 = []\n",
    "all_f1_scores_ia3 = []\n",
    "\n",
    "for i, example in enumerate(custom_examples):\n",
    "    print(f\"--- Example {i+1} ---\")\n",
    "    context = example[\"context\"]\n",
    "    query = example[\"question\"]\n",
    "    true_answer = example[\"answer\"]\n",
    "\n",
    "    prediction = predict_custom(context, query, final_ia3_model, tokenizer)\n",
    "\n",
    "    em_score = compute_exact_match(prediction, true_answer)\n",
    "    f1_score = compute_f1(prediction, true_answer)\n",
    "\n",
    "    all_em_scores_ia3.append(em_score)\n",
    "    all_f1_scores_ia3.append(f1_score)\n",
    "\n",
    "    print(f\"Question: {query}\")\n",
    "    print(f\"Prediction: '{prediction}'\")\n",
    "    print(f\"True Answer: '{true_answer}'\")\n",
    "    print(f\"EM Score: {em_score}\")\n",
    "    print(f\"F1 Score: {f1_score:.4f}\")\n",
    "    print('\\n')\n",
    "\n",
    "average_em_ia3 = sum(all_em_scores_ia3) / len(all_em_scores_ia3)\n",
    "average_f1_ia3 = sum(all_f1_scores_ia3) / len(all_f1_scores_ia3)\n",
    "\n",
    "print(f\"Total Examples: {len(custom_examples)}\")\n",
    "print(f\"Average Exact Match (EM) for (IA)3: {average_em_ia3:.4f}\")\n",
    "print(f\"Average F1 Score for (IA)3: {average_f1_ia3:.4f}\")"
   ]
  },
  {
   "cell_type": "code",
   "execution_count": 30,
   "metadata": {
    "colab": {
     "base_uri": "https://localhost:8080/"
    },
    "id": "kInWy6LQzEL-",
    "outputId": "f6547b86-c5e6-4ea4-a312-4ccd55db1c53"
   },
   "outputs": [
    {
     "name": "stdout",
     "output_type": "stream",
     "text": [
      "  adding: results_lora_final/ (stored 0%)\n",
      "  adding: results_lora_final/runs/ (stored 0%)\n",
      "  adding: results_lora_final/runs/Oct11_02-17-47_bb128034a07a/ (stored 0%)\n",
      "  adding: results_lora_final/runs/Oct11_02-17-47_bb128034a07a/events.out.tfevents.1760149068.bb128034a07a.1748.1 (deflated 61%)\n",
      "  adding: results_lora_final/checkpoint-36183/ (stored 0%)\n",
      "  adding: results_lora_final/checkpoint-36183/adapter_model.safetensors (deflated 7%)\n",
      "  adding: results_lora_final/checkpoint-36183/optimizer.pt (deflated 8%)\n",
      "  adding: results_lora_final/checkpoint-36183/scheduler.pt (deflated 62%)\n",
      "  adding: results_lora_final/checkpoint-36183/trainer_state.json (deflated 75%)\n",
      "  adding: results_lora_final/checkpoint-36183/training_args.bin (deflated 54%)\n",
      "  adding: results_lora_final/checkpoint-36183/adapter_config.json (deflated 55%)\n",
      "  adding: results_lora_final/checkpoint-36183/README.md (deflated 66%)\n",
      "  adding: results_lora_final/checkpoint-36183/rng_state.pth (deflated 26%)\n",
      "  adding: results_lora_final/checkpoint-24122/ (stored 0%)\n",
      "  adding: results_lora_final/checkpoint-24122/adapter_model.safetensors (deflated 7%)\n",
      "  adding: results_lora_final/checkpoint-24122/optimizer.pt (deflated 8%)\n",
      "  adding: results_lora_final/checkpoint-24122/scheduler.pt (deflated 61%)\n",
      "  adding: results_lora_final/checkpoint-24122/trainer_state.json (deflated 74%)\n",
      "  adding: results_lora_final/checkpoint-24122/training_args.bin (deflated 54%)\n",
      "  adding: results_lora_final/checkpoint-24122/adapter_config.json (deflated 55%)\n",
      "  adding: results_lora_final/checkpoint-24122/README.md (deflated 66%)\n",
      "  adding: results_lora_final/checkpoint-24122/rng_state.pth (deflated 26%)\n",
      "  adding: results_lora_final/checkpoint-12061/ (stored 0%)\n",
      "  adding: results_lora_final/checkpoint-12061/adapter_model.safetensors (deflated 7%)\n",
      "  adding: results_lora_final/checkpoint-12061/optimizer.pt (deflated 8%)\n",
      "  adding: results_lora_final/checkpoint-12061/scheduler.pt (deflated 61%)\n",
      "  adding: results_lora_final/checkpoint-12061/trainer_state.json (deflated 71%)\n",
      "  adding: results_lora_final/checkpoint-12061/training_args.bin (deflated 54%)\n",
      "  adding: results_lora_final/checkpoint-12061/adapter_config.json (deflated 55%)\n",
      "  adding: results_lora_final/checkpoint-12061/README.md (deflated 66%)\n",
      "  adding: results_lora_final/checkpoint-12061/rng_state.pth (deflated 26%)\n",
      "  adding: results_ia3_final/ (stored 0%)\n",
      "  adding: results_ia3_final/checkpoint-36183/ (stored 0%)\n",
      "  adding: results_ia3_final/checkpoint-36183/adapter_model.safetensors (deflated 22%)\n",
      "  adding: results_ia3_final/checkpoint-36183/optimizer.pt (deflated 13%)\n",
      "  adding: results_ia3_final/checkpoint-36183/scheduler.pt (deflated 62%)\n",
      "  adding: results_ia3_final/checkpoint-36183/trainer_state.json (deflated 75%)\n",
      "  adding: results_ia3_final/checkpoint-36183/training_args.bin (deflated 53%)\n",
      "  adding: results_ia3_final/checkpoint-36183/adapter_config.json (deflated 47%)\n",
      "  adding: results_ia3_final/checkpoint-36183/README.md (deflated 66%)\n",
      "  adding: results_ia3_final/checkpoint-36183/rng_state.pth (deflated 26%)\n",
      "  adding: results_ia3_final/checkpoint-24122/ (stored 0%)\n",
      "  adding: results_ia3_final/checkpoint-24122/adapter_model.safetensors (deflated 23%)\n",
      "  adding: results_ia3_final/checkpoint-24122/optimizer.pt (deflated 13%)\n",
      "  adding: results_ia3_final/checkpoint-24122/scheduler.pt (deflated 61%)\n",
      "  adding: results_ia3_final/checkpoint-24122/trainer_state.json (deflated 74%)\n",
      "  adding: results_ia3_final/checkpoint-24122/training_args.bin (deflated 53%)\n",
      "  adding: results_ia3_final/checkpoint-24122/adapter_config.json (deflated 47%)\n",
      "  adding: results_ia3_final/checkpoint-24122/README.md (deflated 66%)\n",
      "  adding: results_ia3_final/checkpoint-24122/rng_state.pth (deflated 26%)\n",
      "  adding: results_ia3_final/checkpoint-12061/ (stored 0%)\n",
      "  adding: results_ia3_final/checkpoint-12061/adapter_model.safetensors (deflated 24%)\n",
      "  adding: results_ia3_final/checkpoint-12061/optimizer.pt (deflated 13%)\n",
      "  adding: results_ia3_final/checkpoint-12061/scheduler.pt (deflated 61%)\n",
      "  adding: results_ia3_final/checkpoint-12061/trainer_state.json (deflated 72%)\n",
      "  adding: results_ia3_final/checkpoint-12061/training_args.bin (deflated 53%)\n",
      "  adding: results_ia3_final/checkpoint-12061/adapter_config.json (deflated 47%)\n",
      "  adding: results_ia3_final/checkpoint-12061/README.md (deflated 66%)\n",
      "  adding: results_ia3_final/checkpoint-12061/rng_state.pth (deflated 26%)\n",
      "  adding: LoRA_Fine_Tuning_Loss_3_Epochs.png (deflated 10%)\n",
      "  adding: IA3_Fine_Tuning_Loss_3_Epochs.png (deflated 10%)\n"
     ]
    }
   ],
   "source": [
    "!zip -r assignment3_results.zip results_lora_final results_ia3_final LoRA_Fine_Tuning_Loss_3_Epochs.png IA3_Fine_Tuning_Loss_3_Epochs.png"
   ]
  }
 ],
 "metadata": {
  "accelerator": "GPU",
  "colab": {
   "collapsed_sections": [
    "k7_NuygCgZP6",
    "izQ2Uk0rguJ7",
    "1uS9vaaRhENH",
    "HzNPkCvWhTzi"
   ],
   "gpuType": "T4",
   "provenance": []
  },
  "kernelspec": {
   "display_name": ".venv (3.12.5)",
   "language": "python",
   "name": "python3"
  },
  "language_info": {
   "codemirror_mode": {
    "name": "ipython",
    "version": 3
   },
   "file_extension": ".py",
   "mimetype": "text/x-python",
   "name": "python",
   "nbconvert_exporter": "python",
   "pygments_lexer": "ipython3",
   "version": "3.12.5"
  }
 },
 "nbformat": 4,
 "nbformat_minor": 0
}
